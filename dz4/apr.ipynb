{
 "cells": [
  {
   "cell_type": "markdown",
   "metadata": {
    "id": "HZQ5moefPjTK"
   },
   "source": [
    "# Analiza i projektiranje računalom\n",
    "## 4. Domaća zadaća: *Genetski algoritam*"
   ]
  },
  {
   "cell_type": "code",
   "execution_count": 26,
   "metadata": {
    "colab": {
     "base_uri": "https://localhost:8080/"
    },
    "id": "AeCno9YBP7HS",
    "outputId": "380e7861-a1c7-4386-a0ff-582c693a9f4b"
   },
   "outputs": [
    {
     "name": "stdout",
     "output_type": "stream",
     "text": [
      "Drive already mounted at /content/drive; to attempt to forcibly remount, call drive.mount(\"/content/drive\", force_remount=True).\n"
     ]
    }
   ],
   "source": [
    "from google.colab import drive\n",
    "drive.mount('/content/drive')"
   ]
  },
  {
   "cell_type": "code",
   "execution_count": 27,
   "metadata": {
    "colab": {
     "base_uri": "https://localhost:8080/"
    },
    "id": "rrBRVuEAPijP",
    "outputId": "3a9d101b-3c8e-4191-ed4c-3421eb98f5df"
   },
   "outputs": [
    {
     "name": "stdout",
     "output_type": "stream",
     "text": [
      "Populating the interactive namespace from numpy and matplotlib\n"
     ]
    }
   ],
   "source": [
    "import numpy as np\n",
    "import matplotlib.pyplot as plt\n",
    "import seaborn as sns\n",
    "import pandas as pd\n",
    "%pylab inline\n",
    "eps = -1e-6"
   ]
  },
  {
   "cell_type": "code",
   "execution_count": 28,
   "metadata": {
    "id": "93QnqnSSSyYh"
   },
   "outputs": [],
   "source": [
    "def stats(x):\n",
    "    print(np.sum(x > eps), \"hits in\", x.shape[0], \"runs\")\n",
    "    print(\"Mean fitness:  \", np.mean(x))\n",
    "    print(\"Median fitness:\", np.median(x))\n",
    "    print(\"Best fitness:  \", np.max(x))"
   ]
  },
  {
   "cell_type": "markdown",
   "metadata": {
    "id": "_wEg4X2aSGDJ"
   },
   "source": [
    "## 3. zadatak"
   ]
  },
  {
   "cell_type": "code",
   "execution_count": 29,
   "metadata": {
    "id": "-CnvLsX9P72o"
   },
   "outputs": [],
   "source": [
    "f06d03d = np.loadtxt(\"drive/MyDrive/f06d03d.txt\")\n",
    "f06d06d = np.loadtxt(\"drive/MyDrive/f06d06d.txt\")\n",
    "f06d03b = np.loadtxt(\"drive/MyDrive/f06d03b.txt\")\n",
    "f06d06b = np.loadtxt(\"drive/MyDrive/f06d06b.txt\")\n",
    "f07d03d = np.loadtxt(\"drive/MyDrive/f07d03d.txt\")\n",
    "f07d06d = np.loadtxt(\"drive/MyDrive/f07d06d.txt\")\n",
    "f07d03b = np.loadtxt(\"drive/MyDrive/f07d03b.txt\")\n",
    "f07d06b = np.loadtxt(\"drive/MyDrive/f07d06b.txt\")"
   ]
  },
  {
   "cell_type": "code",
   "execution_count": 30,
   "metadata": {
    "colab": {
     "base_uri": "https://localhost:8080/"
    },
    "id": "CfRHleezQzJk",
    "outputId": "12ec4e4b-6db5-4111-84ed-a658af43f2e4"
   },
   "outputs": [
    {
     "name": "stdout",
     "output_type": "stream",
     "text": [
      "Function f6, 3 dimensions, decimal chromosomes:\n",
      "9 hits in 30 runs\n",
      "Mean fitness:   -0.006801244236098195\n",
      "Median fitness: -0.009715909877514362\n",
      "Best fitness:   -8.193697886849094e-09\n"
     ]
    }
   ],
   "source": [
    "print(\"Function f6, 3 dimensions, decimal chromosomes:\")\n",
    "stats(f06d03d)"
   ]
  },
  {
   "cell_type": "code",
   "execution_count": 31,
   "metadata": {
    "colab": {
     "base_uri": "https://localhost:8080/"
    },
    "id": "CG01E10ZQ_9R",
    "outputId": "34978cfc-1d4f-419d-d2b8-5985ed33c130"
   },
   "outputs": [
    {
     "name": "stdout",
     "output_type": "stream",
     "text": [
      "Function f6, 6 dimensions, decimal chromosomes:\n",
      "0 hits in 30 runs\n",
      "Mean fitness:   -0.009715910620483662\n",
      "Median fitness: -0.009715910247534737\n",
      "Best fitness:   -0.009715909877514362\n"
     ]
    }
   ],
   "source": [
    "print(\"Function f6, 6 dimensions, decimal chromosomes:\")\n",
    "stats(f06d06d)"
   ]
  },
  {
   "cell_type": "code",
   "execution_count": 32,
   "metadata": {
    "colab": {
     "base_uri": "https://localhost:8080/"
    },
    "id": "K0vjx71OsQKy",
    "outputId": "58de577d-58bc-43c8-cefe-1dfd15e2e938"
   },
   "outputs": [
    {
     "name": "stdout",
     "output_type": "stream",
     "text": [
      "Function f6, 3 dimensions, binary chromosomes:\n",
      "0 hits in 30 runs\n",
      "Mean fitness:   -0.009715909880185992\n",
      "Median fitness: -0.009715909877815398\n",
      "Best fitness:   -0.009715909877514584\n"
     ]
    }
   ],
   "source": [
    "print(\"Function f6, 3 dimensions, binary chromosomes:\")\n",
    "stats(f06d03b)"
   ]
  },
  {
   "cell_type": "code",
   "execution_count": 33,
   "metadata": {
    "colab": {
     "base_uri": "https://localhost:8080/"
    },
    "id": "535O85bnsQmy",
    "outputId": "985e58e1-6821-4876-da77-eab8f21b66e2"
   },
   "outputs": [
    {
     "name": "stdout",
     "output_type": "stream",
     "text": [
      "Function f6, 6 dimensions, binary chromosomes:\n",
      "0 hits in 30 runs\n",
      "Mean fitness:   -0.018885298291220497\n",
      "Median fitness: -0.009715909877922563\n",
      "Best fitness:   -0.009715909877514584\n"
     ]
    }
   ],
   "source": [
    "print(\"Function f6, 6 dimensions, binary chromosomes:\")\n",
    "stats(f06d06b)"
   ]
  },
  {
   "cell_type": "code",
   "execution_count": 34,
   "metadata": {
    "colab": {
     "base_uri": "https://localhost:8080/"
    },
    "id": "ixUqASuhsVBw",
    "outputId": "f86c74ee-2ba3-47a1-be34-1e3df7e6f6b7"
   },
   "outputs": [
    {
     "name": "stdout",
     "output_type": "stream",
     "text": [
      "Function f7, 3 dimensions, decimal chromosomes:\n",
      "30 hits in 30 runs\n",
      "Mean fitness:   -8.436401875804667e-07\n",
      "Median fitness: -8.813098911610031e-07\n",
      "Best fitness:   -3.5017599114359214e-07\n"
     ]
    }
   ],
   "source": [
    "print(\"Function f7, 3 dimensions, decimal chromosomes:\")\n",
    "stats(f07d03d)"
   ]
  },
  {
   "cell_type": "code",
   "execution_count": 35,
   "metadata": {
    "colab": {
     "base_uri": "https://localhost:8080/"
    },
    "id": "jHC-zqphiy3B",
    "outputId": "dce36e7e-5c95-4625-8474-5af3f4d63d32"
   },
   "outputs": [
    {
     "name": "stdout",
     "output_type": "stream",
     "text": [
      "Function f7, 6 dimensions, decimal chromosomes:\n",
      "8 hits in 30 runs\n",
      "Mean fitness:   -0.007623379671910126\n",
      "Median fitness: -0.005364481906723692\n",
      "Best fitness:   -6.693544551847657e-07\n"
     ]
    }
   ],
   "source": [
    "print(\"Function f7, 6 dimensions, decimal chromosomes:\")\n",
    "stats(f07d06d)"
   ]
  },
  {
   "cell_type": "code",
   "execution_count": 36,
   "metadata": {
    "colab": {
     "base_uri": "https://localhost:8080/"
    },
    "id": "Bx-yVvKGiy84",
    "outputId": "4932c575-4947-4291-cd70-338ee1977403"
   },
   "outputs": [
    {
     "name": "stdout",
     "output_type": "stream",
     "text": [
      "Function f7, 3 dimensions, binary chromosomes:\n",
      "11 hits in 30 runs\n",
      "Mean fitness:   -0.008674127509013734\n",
      "Median fitness: -0.005364481906723689\n",
      "Best fitness:   -5.682868605694966e-07\n"
     ]
    }
   ],
   "source": [
    "print(\"Function f7, 3 dimensions, binary chromosomes:\")\n",
    "stats(f07d03b)"
   ]
  },
  {
   "cell_type": "code",
   "execution_count": 37,
   "metadata": {
    "colab": {
     "base_uri": "https://localhost:8080/"
    },
    "id": "PlhYnf1QizDW",
    "outputId": "63db7fe5-84b5-48bc-dac5-64202652d6f9"
   },
   "outputs": [
    {
     "name": "stdout",
     "output_type": "stream",
     "text": [
      "Function f7, 6 dimensions, binary chromosomes:\n",
      "0 hits in 30 runs\n",
      "Mean fitness:   -0.14536925310911072\n",
      "Median fitness: -0.12787454930782466\n",
      "Best fitness:   -0.03134949167348866\n"
     ]
    }
   ],
   "source": [
    "print(\"Function f7, 6 dimensions, binary chromosomes:\")\n",
    "stats(f07d06b)"
   ]
  },
  {
   "cell_type": "markdown",
   "metadata": {
    "id": "cZzbYCLMALU8"
   },
   "source": [
    "## 4. Zadatak"
   ]
  },
  {
   "cell_type": "code",
   "execution_count": 38,
   "metadata": {
    "id": "tw8omCBmizJn"
   },
   "outputs": [],
   "source": [
    "population_size_data = pd.read_csv(\"drive/MyDrive/population_size_data.csv\")"
   ]
  },
  {
   "cell_type": "code",
   "execution_count": 39,
   "metadata": {
    "colab": {
     "base_uri": "https://localhost:8080/"
    },
    "id": "N5aPTh3PAeUd",
    "outputId": "93b19884-13b1-4351-ba2f-7a883b859c5b"
   },
   "outputs": [
    {
     "name": "stdout",
     "output_type": "stream",
     "text": [
      "Fitness means for different population sizes:\n"
     ]
    },
    {
     "data": {
      "text/plain": [
       "30    -0.007449\n",
       "50    -0.005831\n",
       "100   -0.004815\n",
       "200   -0.006763\n",
       "dtype: float64"
      ]
     },
     "execution_count": 39,
     "metadata": {
      "tags": []
     },
     "output_type": "execute_result"
    }
   ],
   "source": [
    "print(\"Fitness means for different population sizes:\")\n",
    "population_size_data.mean()"
   ]
  },
  {
   "cell_type": "code",
   "execution_count": 40,
   "metadata": {
    "colab": {
     "base_uri": "https://localhost:8080/"
    },
    "id": "uollDl1k1Q4p",
    "outputId": "92ac023f-bef4-4e18-cf72-7708cfdb3cdb"
   },
   "outputs": [
    {
     "name": "stdout",
     "output_type": "stream",
     "text": [
      "Fitness medians for different population sizes:\n"
     ]
    },
    {
     "data": {
      "text/plain": [
       "30    -0.009716\n",
       "50    -0.009716\n",
       "100   -0.004204\n",
       "200   -0.009716\n",
       "dtype: float64"
      ]
     },
     "execution_count": 40,
     "metadata": {
      "tags": []
     },
     "output_type": "execute_result"
    }
   ],
   "source": [
    "print(\"Fitness medians for different population sizes:\")\n",
    "population_size_data.median()"
   ]
  },
  {
   "cell_type": "code",
   "execution_count": 41,
   "metadata": {
    "colab": {
     "base_uri": "https://localhost:8080/"
    },
    "id": "1MdvD4qS1aWX",
    "outputId": "f3fa8a1b-a81b-48fd-d206-74ab6e16cc8c"
   },
   "outputs": [
    {
     "name": "stdout",
     "output_type": "stream",
     "text": [
      "Fitness maximums for different population sizes:\n"
     ]
    },
    {
     "data": {
      "text/plain": [
       "30    -1.071021e-08\n",
       "50    -8.392311e-09\n",
       "100   -9.634056e-10\n",
       "200   -3.048100e-08\n",
       "dtype: float64"
      ]
     },
     "execution_count": 41,
     "metadata": {
      "tags": []
     },
     "output_type": "execute_result"
    }
   ],
   "source": [
    "print(\"Fitness maximums for different population sizes:\")\n",
    "population_size_data.max()"
   ]
  },
  {
   "cell_type": "code",
   "execution_count": 42,
   "metadata": {
    "colab": {
     "base_uri": "https://localhost:8080/",
     "height": 404
    },
    "id": "RNnFbmlUz9oO",
    "outputId": "87862306-175a-4837-9f9e-61289a3465cb"
   },
   "outputs": [
    {
     "data": {
      "image/png": "[encoded data removed]",
      "text/plain": [
       "<Figure size 720x432 with 1 Axes>"
      ]
     },
     "metadata": {
      "needs_background": "light",
      "tags": []
     },
     "output_type": "display_data"
    }
   ],
   "source": [
    "figsize(10, 6)\n",
    "sns.boxplot(data=population_size_data)\n",
    "plt.ylim(-0.015, 0.005)\n",
    "plt.ylabel(\"Fitness\")\n",
    "plt.xlabel(\"Population size\")\n",
    "plt.grid(True, linestyle=\"dotted\", axis=\"y\")\n",
    "plt.title(\"Population sizes comparison\")\n",
    "plt.show()"
   ]
  },
  {
   "cell_type": "code",
   "execution_count": 43,
   "metadata": {
    "id": "klsgDcRU0FS8"
   },
   "outputs": [],
   "source": [
    "mutation_probability_data = pd.read_csv(\"drive/MyDrive/mutation_probability_data.csv\")"
   ]
  },
  {
   "cell_type": "code",
   "execution_count": 44,
   "metadata": {
    "colab": {
     "base_uri": "https://localhost:8080/"
    },
    "id": "bk0NI2TOAkX7",
    "outputId": "e34a1bde-b797-4f91-d912-017ad34366ea"
   },
   "outputs": [
    {
     "name": "stdout",
     "output_type": "stream",
     "text": [
      "Fitness means for different mutation probabilities:\n"
     ]
    },
    {
     "data": {
      "text/plain": [
       "30    -0.007449\n",
       "50    -0.005831\n",
       "100   -0.004815\n",
       "200   -0.006763\n",
       "dtype: float64"
      ]
     },
     "execution_count": 44,
     "metadata": {
      "tags": []
     },
     "output_type": "execute_result"
    }
   ],
   "source": [
    "print(\"Fitness means for different mutation probabilities:\")\n",
    "population_size_data.mean()"
   ]
  },
  {
   "cell_type": "code",
   "execution_count": 45,
   "metadata": {
    "colab": {
     "base_uri": "https://localhost:8080/"
    },
    "id": "D7_SV87xAQ_a",
    "outputId": "4dc87647-2034-4fed-b06d-5069b4f512bc"
   },
   "outputs": [
    {
     "name": "stdout",
     "output_type": "stream",
     "text": [
      "Fitness medians for different mutation probabilities:\n"
     ]
    },
    {
     "data": {
      "text/plain": [
       "0.1   -0.009716\n",
       "0.3   -0.009716\n",
       "0.6   -0.001265\n",
       "0.9   -0.000001\n",
       "dtype: float64"
      ]
     },
     "execution_count": 45,
     "metadata": {
      "tags": []
     },
     "output_type": "execute_result"
    }
   ],
   "source": [
    "print(\"Fitness medians for different mutation probabilities:\")\n",
    "mutation_probability_data.median()"
   ]
  },
  {
   "cell_type": "code",
   "execution_count": 46,
   "metadata": {
    "colab": {
     "base_uri": "https://localhost:8080/"
    },
    "id": "nhPMDfEUAUXz",
    "outputId": "6711992d-1459-47d4-f3ca-0a32caef5279"
   },
   "outputs": [
    {
     "name": "stdout",
     "output_type": "stream",
     "text": [
      "Fitness maximums for different mutation probabilities:\n"
     ]
    },
    {
     "data": {
      "text/plain": [
       "0.1   -9.715910e-03\n",
       "0.3   -1.390425e-07\n",
       "0.6   -8.587766e-09\n",
       "0.9   -1.069315e-08\n",
       "dtype: float64"
      ]
     },
     "execution_count": 46,
     "metadata": {
      "tags": []
     },
     "output_type": "execute_result"
    }
   ],
   "source": [
    "print(\"Fitness maximums for different mutation probabilities:\")\n",
    "mutation_probability_data.max()"
   ]
  },
  {
   "cell_type": "code",
   "execution_count": 47,
   "metadata": {
    "colab": {
     "base_uri": "https://localhost:8080/",
     "height": 404
    },
    "id": "FiDUUaLQA1-A",
    "outputId": "9e724ad2-36b0-4d2b-bb52-e4375d66e516"
   },
   "outputs": [
    {
     "data": {
      "image/png": "[encoded data removed]",
      "text/plain": [
       "<Figure size 720x432 with 1 Axes>"
      ]
     },
     "metadata": {
      "needs_background": "light",
      "tags": []
     },
     "output_type": "display_data"
    }
   ],
   "source": [
    "figsize(10, 6)\n",
    "sns.boxplot(data=mutation_probability_data)\n",
    "plt.ylim(-0.015, 0.005)\n",
    "plt.ylabel(\"Fitness\")\n",
    "plt.xlabel(\"Mutation probability\")\n",
    "plt.grid(True, linestyle=\"dotted\", axis=\"y\")\n",
    "plt.title(\"Mutation probabilities comparison\")\n",
    "plt.show()"
   ]
  },
  {
   "cell_type": "code",
   "execution_count": 52,
   "metadata": {
    "id": "KTXG5-UEBMYL"
   },
   "outputs": [],
   "source": [
    "tournament_participants_data = pd.read_csv(\"drive/MyDrive/tournament_participants_data.csv\")"
   ]
  },
  {
   "cell_type": "code",
   "execution_count": 53,
   "metadata": {
    "colab": {
     "base_uri": "https://localhost:8080/"
    },
    "id": "MZ-4vk8XRiTv",
    "outputId": "7ed98732-55e0-4e7a-f418-cf01b2e1011b"
   },
   "outputs": [
    {
     "name": "stdout",
     "output_type": "stream",
     "text": [
      "Fitness means for different numbers of tournament participants:\n"
     ]
    },
    {
     "data": {
      "text/plain": [
       "3    -0.004313\n",
       "5    -0.005712\n",
       "10   -0.005506\n",
       "15   -0.005720\n",
       "20   -0.005507\n",
       "30   -0.006156\n",
       "50   -0.004869\n",
       "dtype: float64"
      ]
     },
     "execution_count": 53,
     "metadata": {
      "tags": []
     },
     "output_type": "execute_result"
    }
   ],
   "source": [
    "print(\"Fitness means for different numbers of tournament participants:\")\n",
    "tournament_participants_data.mean()"
   ]
  },
  {
   "cell_type": "code",
   "execution_count": 55,
   "metadata": {
    "colab": {
     "base_uri": "https://localhost:8080/"
    },
    "id": "DfI9OG7rRnlM",
    "outputId": "60f323e6-09f0-4722-aedb-2993922645cb"
   },
   "outputs": [
    {
     "name": "stdout",
     "output_type": "stream",
     "text": [
      "Fitness means for different numbers of tournament participants:\n"
     ]
    },
    {
     "data": {
      "text/plain": [
       "3    -0.000363\n",
       "5    -0.009716\n",
       "10   -0.009716\n",
       "15   -0.009716\n",
       "20   -0.009716\n",
       "30   -0.009716\n",
       "50   -0.004933\n",
       "dtype: float64"
      ]
     },
     "execution_count": 55,
     "metadata": {
      "tags": []
     },
     "output_type": "execute_result"
    }
   ],
   "source": [
    "print(\"Fitness means for different numbers of tournament participants:\")\n",
    "tournament_participants_data.median()"
   ]
  },
  {
   "cell_type": "code",
   "execution_count": 56,
   "metadata": {
    "colab": {
     "base_uri": "https://localhost:8080/"
    },
    "id": "UEJV3bYqSARw",
    "outputId": "8cba379f-33b3-40aa-de90-4f3ea88d504b"
   },
   "outputs": [
    {
     "name": "stdout",
     "output_type": "stream",
     "text": [
      "Fitness means for different numbers of tournament participants:\n"
     ]
    },
    {
     "data": {
      "text/plain": [
       "3    -4.523666e-07\n",
       "5    -6.230615e-08\n",
       "10   -1.985689e-07\n",
       "15   -4.800604e-13\n",
       "20   -1.683699e-07\n",
       "30   -3.346396e-08\n",
       "50   -9.866557e-08\n",
       "dtype: float64"
      ]
     },
     "execution_count": 56,
     "metadata": {
      "tags": []
     },
     "output_type": "execute_result"
    }
   ],
   "source": [
    "print(\"Fitness means for different numbers of tournament participants:\")\n",
    "tournament_participants_data.max()"
   ]
  },
  {
   "cell_type": "code",
   "execution_count": 57,
   "metadata": {
    "colab": {
     "base_uri": "https://localhost:8080/",
     "height": 404
    },
    "id": "E6WV4duHSaiV",
    "outputId": "d8359675-3e6e-46e9-cd79-56b9d0f080df"
   },
   "outputs": [
    {
     "data": {
      "image/png": "[encoded data removed]",
      "text/plain": [
       "<Figure size 720x432 with 1 Axes>"
      ]
     },
     "metadata": {
      "needs_background": "light",
      "tags": []
     },
     "output_type": "display_data"
    }
   ],
   "source": [
    "figsize(10, 6)\n",
    "sns.boxplot(data=tournament_participants_data)\n",
    "plt.ylim(-0.015, 0.005)\n",
    "plt.ylabel(\"Fitness\")\n",
    "plt.xlabel(\"Number of tournament participants\")\n",
    "plt.grid(True, linestyle=\"dotted\", axis=\"y\")\n",
    "plt.title(\"Number of tournament participants comparison\")\n",
    "plt.show()"
   ]
  },
  {
   "cell_type": "code",
   "execution_count": null,
   "metadata": {
    "id": "cuMYwTDnSpzn"
   },
   "outputs": [],
   "source": []
  }
 ],
 "metadata": {
  "accelerator": "GPU",
  "colab": {
   "name": "Untitled1.ipynb",
   "provenance": [],
   "toc_visible": true
  },
  "kernelspec": {
   "display_name": "Python 3",
   "language": "python",
   "name": "python3"
  },
  "language_info": {
   "codemirror_mode": {
    "name": "ipython",
    "version": 3
   },
   "file_extension": ".py",
   "mimetype": "text/x-python",
   "name": "python",
   "nbconvert_exporter": "python",
   "pygments_lexer": "ipython3",
   "version": "3.8.3"
  }
 },
 "nbformat": 4,
 "nbformat_minor": 1
}
