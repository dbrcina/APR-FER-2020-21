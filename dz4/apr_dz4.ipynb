{
 "cells": [
  {
   "cell_type": "markdown",
   "metadata": {},
   "source": [
    "# Analiza i projektiranje računalom #\n",
    "\n",
    "### 4. Domaća zadaća -  _Genetski algoritam_ ###"
   ]
  },
  {
   "cell_type": "markdown",
   "metadata": {},
   "source": [
    "Učitavanje potrebnih biblioteka."
   ]
  },
  {
   "cell_type": "code",
   "execution_count": 3955,
   "metadata": {},
   "outputs": [
    {
     "name": "stdout",
     "output_type": "stream",
     "text": [
      "Populating the interactive namespace from numpy and matplotlib\n"
     ]
    }
   ],
   "source": [
    "import numpy as np\n",
    "import pandas as pd\n",
    "import matplotlib.pyplot as plt\n",
    "import seaborn as sns\n",
    "%pylab inline"
   ]
  },
  {
   "cell_type": "markdown",
   "metadata": {},
   "source": [
    "### 3. Zadatak ###"
   ]
  },
  {
   "cell_type": "markdown",
   "metadata": {},
   "source": [
    "Učitavanje podatka iz datoteka."
   ]
  },
  {
   "cell_type": "code",
   "execution_count": 4031,
   "metadata": {},
   "outputs": [],
   "source": [
    "f6d3d = np.loadtxt('data/f6d3d.txt')\n",
    "f6d6d = np.loadtxt('data/f6d6d.txt')\n",
    "f7d3d = np.loadtxt('data/f7d3d.txt')\n",
    "f7d6d = np.loadtxt('data/f7d6d.txt')\n",
    "f6d3b = np.loadtxt('data/f6d3b.txt')\n",
    "f6d6b = np.loadtxt('data/f6d6b.txt')\n",
    "f7d3b = np.loadtxt('data/f7d3b.txt')\n",
    "f7d6b = np.loadtxt('data/f7d6b.txt')"
   ]
  },
  {
   "cell_type": "markdown",
   "metadata": {},
   "source": [
    "Funkcija koja ispisuje statistiku za zadani vektor."
   ]
  },
  {
   "cell_type": "code",
   "execution_count": 4032,
   "metadata": {},
   "outputs": [],
   "source": [
    "def statistics(fitness_vector, tol=-1e-6):\n",
    "    print('Broj pogodataka:', np.count_nonzero(fitness_vector > tol), '/', len(fitness_vector))\n",
    "    print('Srednja vrijednost:', np.mean(fitness_vector))\n",
    "    print('Medijan:           ', np.median(fitness_vector))\n",
    "    print('Najbolja dobrota:  ', np.max(fitness_vector))"
   ]
  },
  {
   "cell_type": "markdown",
   "metadata": {},
   "source": [
    "Statistika za funkciju **f6** dimenzije **3** i **decimalnog** prikaza."
   ]
  },
  {
   "cell_type": "code",
   "execution_count": 4033,
   "metadata": {},
   "outputs": [
    {
     "name": "stdout",
     "output_type": "stream",
     "text": [
      "Broj pogodataka: 11 / 30\n",
      "Srednja vrijednost: -0.0053917666037689195\n",
      "Medijan:            -0.007575688806908315\n",
      "Najbolja dobrota:   -1.3006941834703412e-07\n"
     ]
    }
   ],
   "source": [
    "statistics(f6d3d)"
   ]
  },
  {
   "cell_type": "markdown",
   "metadata": {},
   "source": [
    "Statistika za funkciju **f6** dimenzije **3** i **binarnog** prikaza."
   ]
  },
  {
   "cell_type": "code",
   "execution_count": 4034,
   "metadata": {},
   "outputs": [
    {
     "name": "stdout",
     "output_type": "stream",
     "text": [
      "Broj pogodataka: 2 / 30\n",
      "Srednja vrijednost: -0.018237632689464826\n",
      "Medijan:            -0.009715909890817553\n",
      "Najbolja dobrota:   -8.756956150213213e-07\n"
     ]
    }
   ],
   "source": [
    "statistics(f6d3b)"
   ]
  },
  {
   "cell_type": "markdown",
   "metadata": {},
   "source": [
    "Statistika za funkciju **f6** dimenzije **6** i **decimalnog** prikaza."
   ]
  },
  {
   "cell_type": "code",
   "execution_count": 3960,
   "metadata": {},
   "outputs": [
    {
     "name": "stdout",
     "output_type": "stream",
     "text": [
      "Broj pogodataka: 0 / 30\n",
      "Srednja vrijednost: -0.009715910003155743\n",
      "Medijan:            -0.0097159098775145\n",
      "Najbolja dobrota:   -0.009715909877514362\n"
     ]
    }
   ],
   "source": [
    "statistics(f6d6d)"
   ]
  },
  {
   "cell_type": "markdown",
   "metadata": {},
   "source": [
    "Statistika za funkciju **f6** dimenzije **6** i **binarnog** prikaza."
   ]
  },
  {
   "cell_type": "code",
   "execution_count": 3961,
   "metadata": {},
   "outputs": [
    {
     "name": "stdout",
     "output_type": "stream",
     "text": [
      "Broj pogodataka: 0 / 30\n",
      "Srednja vrijednost: -0.009715915388328679\n",
      "Medijan:            -0.009715910237574094\n",
      "Najbolja dobrota:   -0.009715909885101737\n"
     ]
    }
   ],
   "source": [
    "statistics(f6d6b)"
   ]
  },
  {
   "cell_type": "markdown",
   "metadata": {},
   "source": [
    "Statistika za funkciju **f7** dimenzije **3** i **decimalnog** prikaza."
   ]
  },
  {
   "cell_type": "code",
   "execution_count": 3962,
   "metadata": {},
   "outputs": [
    {
     "name": "stdout",
     "output_type": "stream",
     "text": [
      "Broj pogodataka: 30 / 30\n",
      "Srednja vrijednost: -8.767170989498859e-07\n",
      "Medijan:            -9.188991292132038e-07\n",
      "Najbolja dobrota:   -5.893636592211277e-07\n"
     ]
    }
   ],
   "source": [
    "statistics(f7d3d)"
   ]
  },
  {
   "cell_type": "markdown",
   "metadata": {},
   "source": [
    "Statistika za funkciju **f7** dimenzije **3** i **binarnog** prikaza."
   ]
  },
  {
   "cell_type": "code",
   "execution_count": 3963,
   "metadata": {},
   "outputs": [
    {
     "name": "stdout",
     "output_type": "stream",
     "text": [
      "Broj pogodataka: 0 / 30\n",
      "Srednja vrijednost: -0.010398223660750402\n",
      "Medijan:            -0.007209012150852522\n",
      "Najbolja dobrota:   -0.007209012150852522\n"
     ]
    }
   ],
   "source": [
    "statistics(f7d3b)"
   ]
  },
  {
   "cell_type": "markdown",
   "metadata": {},
   "source": [
    "Statistika za funkciju **f7** dimenzije **6** i **decimalnog** prikaza."
   ]
  },
  {
   "cell_type": "code",
   "execution_count": 3964,
   "metadata": {},
   "outputs": [
    {
     "name": "stdout",
     "output_type": "stream",
     "text": [
      "Broj pogodataka: 13 / 30\n",
      "Srednja vrijednost: -0.005211007859569802\n",
      "Medijan:            -0.005364481906723688\n",
      "Najbolja dobrota:   -7.515566893408809e-07\n"
     ]
    }
   ],
   "source": [
    "statistics(f7d6d)"
   ]
  },
  {
   "cell_type": "markdown",
   "metadata": {},
   "source": [
    "Statistika za funkciju **f7** dimenzije **6** i **binarnog** prikaza."
   ]
  },
  {
   "cell_type": "code",
   "execution_count": 3965,
   "metadata": {},
   "outputs": [
    {
     "name": "stdout",
     "output_type": "stream",
     "text": [
      "Broj pogodataka: 0 / 30\n",
      "Srednja vrijednost: -0.17046535110528593\n",
      "Medijan:            -0.1786967432550447\n",
      "Najbolja dobrota:   -0.128094577487384\n"
     ]
    }
   ],
   "source": [
    "statistics(f7d6b)"
   ]
  },
  {
   "cell_type": "markdown",
   "metadata": {},
   "source": [
    "### 4. Zadatak ###"
   ]
  },
  {
   "cell_type": "markdown",
   "metadata": {},
   "source": [
    "Učitavanje `population_sizes.csv` datoteke."
   ]
  },
  {
   "cell_type": "code",
   "execution_count": 3966,
   "metadata": {},
   "outputs": [],
   "source": [
    "population_sizes_df = pd.read_csv('data/population_sizes.csv')"
   ]
  },
  {
   "cell_type": "markdown",
   "metadata": {},
   "source": [
    "Srednje vrijednosti po populacijama:"
   ]
  },
  {
   "cell_type": "code",
   "execution_count": 3967,
   "metadata": {},
   "outputs": [
    {
     "data": {
      "text/plain": [
       "30    -0.005908\n",
       "50    -0.005522\n",
       "100   -0.004273\n",
       "200   -0.006624\n",
       "dtype: float64"
      ]
     },
     "execution_count": 3967,
     "metadata": {},
     "output_type": "execute_result"
    }
   ],
   "source": [
    "population_sizes_df.mean()"
   ]
  },
  {
   "cell_type": "markdown",
   "metadata": {},
   "source": [
    "Medijani po populacijama:"
   ]
  },
  {
   "cell_type": "code",
   "execution_count": 3968,
   "metadata": {},
   "outputs": [
    {
     "data": {
      "text/plain": [
       "30    -0.009716\n",
       "50    -0.006491\n",
       "100   -0.002161\n",
       "200   -0.008561\n",
       "dtype: float64"
      ]
     },
     "execution_count": 3968,
     "metadata": {},
     "output_type": "execute_result"
    }
   ],
   "source": [
    "population_sizes_df.median()"
   ]
  },
  {
   "cell_type": "markdown",
   "metadata": {},
   "source": [
    "Najbolje dobrote po populacijama:"
   ]
  },
  {
   "cell_type": "code",
   "execution_count": 3969,
   "metadata": {},
   "outputs": [
    {
     "data": {
      "text/plain": [
       "30    -8.621122e-07\n",
       "50    -1.999385e-06\n",
       "100   -7.804601e-07\n",
       "200   -8.701971e-05\n",
       "dtype: float64"
      ]
     },
     "execution_count": 3969,
     "metadata": {},
     "output_type": "execute_result"
    }
   ],
   "source": [
    "population_sizes_df.max()"
   ]
  },
  {
   "cell_type": "markdown",
   "metadata": {},
   "source": [
    "**Boxplot** za `population_sizes_df`:"
   ]
  },
  {
   "cell_type": "code",
   "execution_count": 3970,
   "metadata": {},
   "outputs": [
    {
     "data": {
      "image/png": "[encoded data removed]",
      "text/plain": [
       "<Figure size 432x288 with 1 Axes>"
      ]
     },
     "metadata": {
      "needs_background": "light"
     },
     "output_type": "display_data"
    }
   ],
   "source": [
    "sns.boxplot(data=population_sizes_df)\n",
    "plt.ylim(-0.015, 0.01)\n",
    "plt.ylabel('Dobrota')\n",
    "plt.xlabel('Velicina populacije')\n",
    "plt.grid(True, linestyle='dotted', axis='y')\n",
    "plt.show()"
   ]
  },
  {
   "cell_type": "markdown",
   "metadata": {},
   "source": [
    "Učitavanje `mutations.csv` datoteke."
   ]
  },
  {
   "cell_type": "code",
   "execution_count": 3971,
   "metadata": {},
   "outputs": [],
   "source": [
    "mutations_df = pd.read_csv('data/mutations.csv')"
   ]
  },
  {
   "cell_type": "markdown",
   "metadata": {},
   "source": [
    "Srednje vrijednosti za mutacije:"
   ]
  },
  {
   "cell_type": "code",
   "execution_count": 3972,
   "metadata": {},
   "outputs": [
    {
     "data": {
      "text/plain": [
       "0.1   -0.009696\n",
       "0.3   -0.009388\n",
       "0.6   -0.005037\n",
       "0.9   -0.004142\n",
       "dtype: float64"
      ]
     },
     "execution_count": 3972,
     "metadata": {},
     "output_type": "execute_result"
    }
   ],
   "source": [
    "mutations_df.mean()"
   ]
  },
  {
   "cell_type": "markdown",
   "metadata": {},
   "source": [
    "Medijani za mutacije:"
   ]
  },
  {
   "cell_type": "code",
   "execution_count": 3973,
   "metadata": {},
   "outputs": [
    {
     "data": {
      "text/plain": [
       "0.1   -0.009716\n",
       "0.3   -0.009716\n",
       "0.6   -0.007520\n",
       "0.9   -0.002075\n",
       "dtype: float64"
      ]
     },
     "execution_count": 3973,
     "metadata": {},
     "output_type": "execute_result"
    }
   ],
   "source": [
    "mutations_df.median()"
   ]
  },
  {
   "cell_type": "markdown",
   "metadata": {},
   "source": [
    "Najbolje dobrote za mutacije:"
   ]
  },
  {
   "cell_type": "code",
   "execution_count": 3974,
   "metadata": {},
   "outputs": [
    {
     "data": {
      "text/plain": [
       "0.1   -9.132574e-03\n",
       "0.3   -8.443794e-07\n",
       "0.6   -1.043675e-07\n",
       "0.9   -4.703656e-07\n",
       "dtype: float64"
      ]
     },
     "execution_count": 3974,
     "metadata": {},
     "output_type": "execute_result"
    }
   ],
   "source": [
    "mutations_df.max()"
   ]
  },
  {
   "cell_type": "markdown",
   "metadata": {},
   "source": [
    "**Boxplot** za `mutations_df`:"
   ]
  },
  {
   "cell_type": "code",
   "execution_count": 3975,
   "metadata": {},
   "outputs": [
    {
     "data": {
      "image/png": "[encoded data removed]",
      "text/plain": [
       "<Figure size 432x288 with 1 Axes>"
      ]
     },
     "metadata": {
      "needs_background": "light"
     },
     "output_type": "display_data"
    }
   ],
   "source": [
    "sns.boxplot(data=mutations_df)\n",
    "plt.ylim(-0.015, 0.002)\n",
    "plt.ylabel('Dobrota')\n",
    "plt.xlabel('Vjerojatnost mutacije')\n",
    "plt.grid(True, linestyle='dotted', axis='y')\n",
    "plt.show()"
   ]
  },
  {
   "cell_type": "markdown",
   "metadata": {},
   "source": [
    "Učitavanje `optimal_population_mutation.txt` datoteke."
   ]
  },
  {
   "cell_type": "code",
   "execution_count": 3976,
   "metadata": {},
   "outputs": [],
   "source": [
    "population_mutation = np.loadtxt('data/optimal_population_mutation.txt')"
   ]
  },
  {
   "cell_type": "markdown",
   "metadata": {},
   "source": [
    "Statistika za optimalnu veličinu populacije i vjerojatnost mutacije:"
   ]
  },
  {
   "cell_type": "code",
   "execution_count": 3977,
   "metadata": {},
   "outputs": [
    {
     "name": "stdout",
     "output_type": "stream",
     "text": [
      "Broj pogodataka: 4 / 30\n",
      "Srednja vrijednost: -0.004106776884304964\n",
      "Medijan:            -0.003512966814179508\n",
      "Najbolja dobrota:   -2.3662243203714795e-07\n"
     ]
    }
   ],
   "source": [
    "statistics(population_mutation)"
   ]
  },
  {
   "cell_type": "markdown",
   "metadata": {},
   "source": [
    "### 5. Zadatak ###"
   ]
  },
  {
   "cell_type": "markdown",
   "metadata": {},
   "source": [
    "Učitavanje `tournaments.csv` datoteke."
   ]
  },
  {
   "cell_type": "code",
   "execution_count": 3978,
   "metadata": {},
   "outputs": [],
   "source": [
    "tournaments_df = pd.read_csv('data/tournaments.csv')"
   ]
  },
  {
   "cell_type": "markdown",
   "metadata": {},
   "source": [
    "Srednje vrijednosti za turnire:"
   ]
  },
  {
   "cell_type": "code",
   "execution_count": 3979,
   "metadata": {},
   "outputs": [
    {
     "data": {
      "text/plain": [
       "3    -0.006057\n",
       "5    -0.003738\n",
       "10   -0.004069\n",
       "15   -0.005397\n",
       "20   -0.006346\n",
       "25   -0.005850\n",
       "30   -0.005769\n",
       "40   -0.006728\n",
       "50   -0.005335\n",
       "dtype: float64"
      ]
     },
     "execution_count": 3979,
     "metadata": {},
     "output_type": "execute_result"
    }
   ],
   "source": [
    "tournaments_df.mean()"
   ]
  },
  {
   "cell_type": "markdown",
   "metadata": {},
   "source": [
    "Medijani za turnire:"
   ]
  },
  {
   "cell_type": "code",
   "execution_count": 3980,
   "metadata": {},
   "outputs": [
    {
     "data": {
      "text/plain": [
       "3    -0.007926\n",
       "5    -0.000299\n",
       "10   -0.002480\n",
       "15   -0.006129\n",
       "20   -0.009716\n",
       "25   -0.009319\n",
       "30   -0.008711\n",
       "40   -0.009716\n",
       "50   -0.004992\n",
       "dtype: float64"
      ]
     },
     "execution_count": 3980,
     "metadata": {},
     "output_type": "execute_result"
    }
   ],
   "source": [
    "tournaments_df.median()"
   ]
  },
  {
   "cell_type": "markdown",
   "metadata": {},
   "source": [
    "Najbolje dobrote za turnire:"
   ]
  },
  {
   "cell_type": "code",
   "execution_count": 3981,
   "metadata": {},
   "outputs": [
    {
     "data": {
      "text/plain": [
       "3    -5.081504e-07\n",
       "5    -3.955297e-08\n",
       "10   -3.039447e-07\n",
       "15   -8.076234e-07\n",
       "20   -3.035579e-05\n",
       "25   -3.653028e-06\n",
       "30   -1.455029e-05\n",
       "40   -1.287693e-05\n",
       "50   -8.192411e-05\n",
       "dtype: float64"
      ]
     },
     "execution_count": 3981,
     "metadata": {},
     "output_type": "execute_result"
    }
   ],
   "source": [
    "tournaments_df.max()"
   ]
  },
  {
   "cell_type": "markdown",
   "metadata": {},
   "source": [
    "**Boxplot** za `tournaments_df`:"
   ]
  },
  {
   "cell_type": "code",
   "execution_count": 3982,
   "metadata": {},
   "outputs": [
    {
     "data": {
      "image/png": "[encoded data removed]",
      "text/plain": [
       "<Figure size 432x288 with 1 Axes>"
      ]
     },
     "metadata": {
      "needs_background": "light"
     },
     "output_type": "display_data"
    }
   ],
   "source": [
    "sns.boxplot(data=tournaments_df)\n",
    "plt.ylim(-0.015, 0.0055)\n",
    "plt.ylabel('Dobrota')\n",
    "plt.xlabel('k')\n",
    "plt.grid(True, linestyle='dotted', axis='y')\n",
    "plt.show()"
   ]
  },
  {
   "cell_type": "markdown",
   "metadata": {},
   "source": [
    "Učitavanje `optimal_population_mutation_tournament.txt` datoteke."
   ]
  },
  {
   "cell_type": "code",
   "execution_count": 3983,
   "metadata": {},
   "outputs": [],
   "source": [
    "population_mutation_tournament = np.loadtxt('data/optimal_population_mutation_tournament.txt')"
   ]
  },
  {
   "cell_type": "markdown",
   "metadata": {},
   "source": [
    "Statistika za optimalnu veličinu populacije, vjerojatnost mutacije i turnira:"
   ]
  },
  {
   "cell_type": "code",
   "execution_count": 3984,
   "metadata": {},
   "outputs": [
    {
     "name": "stdout",
     "output_type": "stream",
     "text": [
      "Broj pogodataka: 2 / 30\n",
      "Srednja vrijednost: -0.006062381259868044\n",
      "Medijan:            -0.008141758713982566\n",
      "Najbolja dobrota:   -7.021841772480997e-07\n"
     ]
    }
   ],
   "source": [
    "statistics(population_mutation_tournament)"
   ]
  }
 ],
 "metadata": {
  "kernelspec": {
   "display_name": "Python 3",
   "language": "python",
   "name": "python3"
  },
  "language_info": {
   "codemirror_mode": {
    "name": "ipython",
    "version": 3
   },
   "file_extension": ".py",
   "mimetype": "text/x-python",
   "name": "python",
   "nbconvert_exporter": "python",
   "pygments_lexer": "ipython3",
   "version": "3.8.3"
  }
 },
 "nbformat": 4,
 "nbformat_minor": 4
}
