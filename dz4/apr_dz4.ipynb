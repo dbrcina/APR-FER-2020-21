{
 "cells": [
  {
   "cell_type": "markdown",
   "metadata": {},
   "source": [
    "# Analiza i projektiranje računalom #\n",
    "\n",
    "### 4. Domaća zadaća -  _Genetski algoritam_ ###"
   ]
  },
  {
   "cell_type": "markdown",
   "metadata": {},
   "source": [
    "Učitavanje potrebnih biblioteka."
   ]
  },
  {
   "cell_type": "code",
   "execution_count": 1485,
   "metadata": {},
   "outputs": [
    {
     "name": "stdout",
     "output_type": "stream",
     "text": [
      "Populating the interactive namespace from numpy and matplotlib\n"
     ]
    }
   ],
   "source": [
    "import numpy as np\n",
    "import pandas as pd\n",
    "import matplotlib.pyplot as plt\n",
    "import seaborn as sns\n",
    "%pylab inline"
   ]
  },
  {
   "cell_type": "markdown",
   "metadata": {},
   "source": [
    "### 3. Zadatak ###"
   ]
  },
  {
   "cell_type": "markdown",
   "metadata": {},
   "source": [
    "Učitavanje podatka iz datoteka."
   ]
  },
  {
   "cell_type": "code",
   "execution_count": 1486,
   "metadata": {},
   "outputs": [],
   "source": [
    "f6d3d = np.loadtxt('data/f6d3d.txt')\n",
    "f6d6d = np.loadtxt('data/f6d6d.txt')\n",
    "f7d3d = np.loadtxt('data/f7d3d.txt')\n",
    "f7d6d = np.loadtxt('data/f7d6d.txt')\n",
    "f6d3b = np.loadtxt('data/f6d3b.txt')\n",
    "f6d6b = np.loadtxt('data/f6d6b.txt')\n",
    "f7d3b = np.loadtxt('data/f7d3b.txt')\n",
    "f7d6b = np.loadtxt('data/f7d6b.txt')"
   ]
  },
  {
   "cell_type": "markdown",
   "metadata": {},
   "source": [
    "Funkcija koja ispisuje statistiku za zadani vektor."
   ]
  },
  {
   "cell_type": "code",
   "execution_count": 1487,
   "metadata": {},
   "outputs": [],
   "source": [
    "def statistics(fitness_vector, tol=-1e-6):\n",
    "    print('Broj pogodataka:', np.count_nonzero(fitness_vector > tol), '/', len(fitness_vector))\n",
    "    print('Srednja vrijednost:', np.mean(fitness_vector))\n",
    "    print('Medijan:           ', np.median(fitness_vector))\n",
    "    print('Najbolja dobrota:  ', np.max(fitness_vector))"
   ]
  },
  {
   "cell_type": "markdown",
   "metadata": {},
   "source": [
    "Statistika za funkciju **f6** dimenzije **3** i **decimalnog** prikaza."
   ]
  },
  {
   "cell_type": "code",
   "execution_count": 1488,
   "metadata": {},
   "outputs": [
    {
     "name": "stdout",
     "output_type": "stream",
     "text": [
      "Broj pogodataka: 7 / 30\n",
      "Srednja vrijednost: -0.006582108964155378\n",
      "Medijan:            -0.009715909877514362\n",
      "Najbolja dobrota:   -4.549754650806648e-08\n"
     ]
    }
   ],
   "source": [
    "statistics(f6d3d)"
   ]
  },
  {
   "cell_type": "markdown",
   "metadata": {},
   "source": [
    "Statistika za funkciju **f6** dimenzije **3** i **binarnog** prikaza."
   ]
  },
  {
   "cell_type": "code",
   "execution_count": 1489,
   "metadata": {},
   "outputs": [
    {
     "name": "stdout",
     "output_type": "stream",
     "text": [
      "Broj pogodataka: 7 / 30\n",
      "Srednja vrijednost: -0.007449009088655882\n",
      "Medijan:            -0.009715909877520829\n",
      "Najbolja dobrota:   -2.1565218411012665e-07\n"
     ]
    }
   ],
   "source": [
    "statistics(f6d3b)"
   ]
  },
  {
   "cell_type": "markdown",
   "metadata": {},
   "source": [
    "Statistika za funkciju **f6** dimenzije **6** i **decimalnog** prikaza."
   ]
  },
  {
   "cell_type": "code",
   "execution_count": 1490,
   "metadata": {},
   "outputs": [
    {
     "name": "stdout",
     "output_type": "stream",
     "text": [
      "Broj pogodataka: 0 / 30\n",
      "Srednja vrijednost: -0.009715910003155743\n",
      "Medijan:            -0.0097159098775145\n",
      "Najbolja dobrota:   -0.009715909877514362\n"
     ]
    }
   ],
   "source": [
    "statistics(f6d6d)"
   ]
  },
  {
   "cell_type": "markdown",
   "metadata": {},
   "source": [
    "Statistika za funkciju **f6** dimenzije **6** i **binarnog** prikaza."
   ]
  },
  {
   "cell_type": "code",
   "execution_count": 1491,
   "metadata": {},
   "outputs": [
    {
     "name": "stdout",
     "output_type": "stream",
     "text": [
      "Broj pogodataka: 0 / 30\n",
      "Srednja vrijednost: -0.009715915388328679\n",
      "Medijan:            -0.009715910237574094\n",
      "Najbolja dobrota:   -0.009715909885101737\n"
     ]
    }
   ],
   "source": [
    "statistics(f6d6b)"
   ]
  },
  {
   "cell_type": "markdown",
   "metadata": {},
   "source": [
    "Statistika za funkciju **f7** dimenzije **3** i **decimalnog** prikaza."
   ]
  },
  {
   "cell_type": "code",
   "execution_count": 1492,
   "metadata": {},
   "outputs": [
    {
     "name": "stdout",
     "output_type": "stream",
     "text": [
      "Broj pogodataka: 30 / 30\n",
      "Srednja vrijednost: -8.767170989498859e-07\n",
      "Medijan:            -9.188991292132038e-07\n",
      "Najbolja dobrota:   -5.893636592211277e-07\n"
     ]
    }
   ],
   "source": [
    "statistics(f7d3d)"
   ]
  },
  {
   "cell_type": "markdown",
   "metadata": {},
   "source": [
    "Statistika za funkciju **f7** dimenzije **3** i **binarnog** prikaza."
   ]
  },
  {
   "cell_type": "code",
   "execution_count": 1493,
   "metadata": {},
   "outputs": [
    {
     "name": "stdout",
     "output_type": "stream",
     "text": [
      "Broj pogodataka: 0 / 30\n",
      "Srednja vrijednost: -0.010398223660750402\n",
      "Medijan:            -0.007209012150852522\n",
      "Najbolja dobrota:   -0.007209012150852522\n"
     ]
    }
   ],
   "source": [
    "statistics(f7d3b)"
   ]
  },
  {
   "cell_type": "markdown",
   "metadata": {},
   "source": [
    "Statistika za funkciju **f7** dimenzije **6** i **decimalnog** prikaza."
   ]
  },
  {
   "cell_type": "code",
   "execution_count": 1494,
   "metadata": {},
   "outputs": [
    {
     "name": "stdout",
     "output_type": "stream",
     "text": [
      "Broj pogodataka: 13 / 30\n",
      "Srednja vrijednost: -0.005211007859569802\n",
      "Medijan:            -0.005364481906723688\n",
      "Najbolja dobrota:   -7.515566893408809e-07\n"
     ]
    }
   ],
   "source": [
    "statistics(f7d6d)"
   ]
  },
  {
   "cell_type": "markdown",
   "metadata": {},
   "source": [
    "Statistika za funkciju **f7** dimenzije **6** i **binarnog** prikaza."
   ]
  },
  {
   "cell_type": "code",
   "execution_count": 1495,
   "metadata": {},
   "outputs": [
    {
     "name": "stdout",
     "output_type": "stream",
     "text": [
      "Broj pogodataka: 0 / 30\n",
      "Srednja vrijednost: -0.17046535110528593\n",
      "Medijan:            -0.1786967432550447\n",
      "Najbolja dobrota:   -0.128094577487384\n"
     ]
    }
   ],
   "source": [
    "statistics(f7d6b)"
   ]
  },
  {
   "cell_type": "markdown",
   "metadata": {},
   "source": [
    "### 4. Zadatak ###"
   ]
  },
  {
   "cell_type": "markdown",
   "metadata": {},
   "source": [
    "Učitavanje `population_sizes.csv` datoteke."
   ]
  },
  {
   "cell_type": "code",
   "execution_count": 1496,
   "metadata": {},
   "outputs": [],
   "source": [
    "population_sizes_df = pd.read_csv('data/population_sizes.csv')"
   ]
  },
  {
   "cell_type": "markdown",
   "metadata": {},
   "source": [
    "Srednje vrijednosti po populacijama:"
   ]
  },
  {
   "cell_type": "code",
   "execution_count": 1497,
   "metadata": {},
   "outputs": [
    {
     "data": {
      "text/plain": [
       "30    -0.005361\n",
       "50    -0.003680\n",
       "100   -0.006231\n",
       "200   -0.006292\n",
       "dtype: float64"
      ]
     },
     "execution_count": 1497,
     "metadata": {},
     "output_type": "execute_result"
    }
   ],
   "source": [
    "population_sizes_df.mean()"
   ]
  },
  {
   "cell_type": "markdown",
   "metadata": {},
   "source": [
    "Medijani po populacijama:"
   ]
  },
  {
   "cell_type": "code",
   "execution_count": 1498,
   "metadata": {},
   "outputs": [
    {
     "data": {
      "text/plain": [
       "30    -0.006669\n",
       "50    -0.001276\n",
       "100   -0.008200\n",
       "200   -0.007160\n",
       "dtype: float64"
      ]
     },
     "execution_count": 1498,
     "metadata": {},
     "output_type": "execute_result"
    }
   ],
   "source": [
    "population_sizes_df.median()"
   ]
  },
  {
   "cell_type": "markdown",
   "metadata": {},
   "source": [
    "Najbolje dobrote po populacijama:"
   ]
  },
  {
   "cell_type": "code",
   "execution_count": 1499,
   "metadata": {},
   "outputs": [
    {
     "data": {
      "text/plain": [
       "30    -1.402687e-05\n",
       "50    -2.847278e-06\n",
       "100   -5.399893e-07\n",
       "200   -7.766895e-04\n",
       "dtype: float64"
      ]
     },
     "execution_count": 1499,
     "metadata": {},
     "output_type": "execute_result"
    }
   ],
   "source": [
    "population_sizes_df.max()"
   ]
  },
  {
   "cell_type": "markdown",
   "metadata": {},
   "source": [
    "**Boxplot** za `population_sizes_df`:"
   ]
  },
  {
   "cell_type": "code",
   "execution_count": 1500,
   "metadata": {},
   "outputs": [
    {
     "data": {
      "image/png": "[encoded data removed]",
      "text/plain": [
       "<Figure size 432x288 with 1 Axes>"
      ]
     },
     "metadata": {
      "needs_background": "light"
     },
     "output_type": "display_data"
    }
   ],
   "source": [
    "sns.boxplot(data=population_sizes_df)\n",
    "plt.ylim(-0.015, 0.002)\n",
    "plt.ylabel('Dobrota')\n",
    "plt.xlabel('Velicina populacije')\n",
    "plt.grid(True, linestyle='dotted', axis='y')\n",
    "plt.show()"
   ]
  },
  {
   "cell_type": "markdown",
   "metadata": {},
   "source": [
    "Učitavanje `mutations.csv` datoteke."
   ]
  },
  {
   "cell_type": "code",
   "execution_count": 1501,
   "metadata": {},
   "outputs": [],
   "source": [
    "mutations_df = pd.read_csv('data/mutations.csv')"
   ]
  },
  {
   "cell_type": "markdown",
   "metadata": {},
   "source": [
    "Srednje vrijednosti za mutacije:"
   ]
  },
  {
   "cell_type": "code",
   "execution_count": 1502,
   "metadata": {},
   "outputs": [
    {
     "data": {
      "text/plain": [
       "0.1   -0.009300\n",
       "0.3   -0.007215\n",
       "0.6   -0.005500\n",
       "0.9   -0.004323\n",
       "dtype: float64"
      ]
     },
     "execution_count": 1502,
     "metadata": {},
     "output_type": "execute_result"
    }
   ],
   "source": [
    "mutations_df.mean()"
   ]
  },
  {
   "cell_type": "markdown",
   "metadata": {},
   "source": [
    "Medijani za mutacije:"
   ]
  },
  {
   "cell_type": "code",
   "execution_count": 1503,
   "metadata": {},
   "outputs": [
    {
     "data": {
      "text/plain": [
       "0.1   -0.009716\n",
       "0.3   -0.009716\n",
       "0.6   -0.009716\n",
       "0.9   -0.002511\n",
       "dtype: float64"
      ]
     },
     "execution_count": 1503,
     "metadata": {},
     "output_type": "execute_result"
    }
   ],
   "source": [
    "mutations_df.median()"
   ]
  },
  {
   "cell_type": "markdown",
   "metadata": {},
   "source": [
    "Najbolje dobrote za mutacije:"
   ]
  },
  {
   "cell_type": "code",
   "execution_count": 1504,
   "metadata": {},
   "outputs": [
    {
     "data": {
      "text/plain": [
       "0.1   -5.996737e-07\n",
       "0.3   -9.179413e-07\n",
       "0.6   -9.909348e-08\n",
       "0.9   -9.560495e-07\n",
       "dtype: float64"
      ]
     },
     "execution_count": 1504,
     "metadata": {},
     "output_type": "execute_result"
    }
   ],
   "source": [
    "mutations_df.max()"
   ]
  },
  {
   "cell_type": "markdown",
   "metadata": {},
   "source": [
    "**Boxplot** za `mutations_df`:"
   ]
  },
  {
   "cell_type": "code",
   "execution_count": 1505,
   "metadata": {},
   "outputs": [
    {
     "data": {
      "image/png": "[encoded data removed]",
      "text/plain": [
       "<Figure size 432x288 with 1 Axes>"
      ]
     },
     "metadata": {
      "needs_background": "light"
     },
     "output_type": "display_data"
    }
   ],
   "source": [
    "sns.boxplot(data=mutations_df)\n",
    "plt.ylim(-0.015, 0.002)\n",
    "plt.ylabel('Dobrota')\n",
    "plt.xlabel('Vjerojatnost mutacije')\n",
    "plt.grid(True, linestyle='dotted', axis='y')\n",
    "plt.show()"
   ]
  },
  {
   "cell_type": "markdown",
   "metadata": {},
   "source": [
    "### 5. Zadatak ###"
   ]
  },
  {
   "cell_type": "markdown",
   "metadata": {},
   "source": [
    "Učitavanje `tournaments.csv` datoteke."
   ]
  },
  {
   "cell_type": "code",
   "execution_count": 1506,
   "metadata": {},
   "outputs": [],
   "source": [
    "tournaments_df = pd.read_csv('data/tournaments.csv')"
   ]
  },
  {
   "cell_type": "markdown",
   "metadata": {},
   "source": [
    "Srednje vrijednosti za turnire:"
   ]
  },
  {
   "cell_type": "code",
   "execution_count": 1507,
   "metadata": {},
   "outputs": [
    {
     "data": {
      "text/plain": [
       "3    -0.005758\n",
       "5    -0.006880\n",
       "10   -0.005743\n",
       "15   -0.004728\n",
       "20   -0.005907\n",
       "25   -0.006115\n",
       "30   -0.006230\n",
       "40   -0.006265\n",
       "50   -0.006783\n",
       "dtype: float64"
      ]
     },
     "execution_count": 1507,
     "metadata": {},
     "output_type": "execute_result"
    }
   ],
   "source": [
    "tournaments_df.mean()"
   ]
  },
  {
   "cell_type": "markdown",
   "metadata": {},
   "source": [
    "Medijani za turnire:"
   ]
  },
  {
   "cell_type": "code",
   "execution_count": 1508,
   "metadata": {},
   "outputs": [
    {
     "data": {
      "text/plain": [
       "3    -0.008628\n",
       "5    -0.009716\n",
       "10   -0.007073\n",
       "15   -0.002955\n",
       "20   -0.009218\n",
       "25   -0.008288\n",
       "30   -0.009716\n",
       "40   -0.009716\n",
       "50   -0.009716\n",
       "dtype: float64"
      ]
     },
     "execution_count": 1508,
     "metadata": {},
     "output_type": "execute_result"
    }
   ],
   "source": [
    "tournaments_df.median()"
   ]
  },
  {
   "cell_type": "markdown",
   "metadata": {},
   "source": [
    "Najbolje dobrote za turnire:"
   ]
  },
  {
   "cell_type": "code",
   "execution_count": 1509,
   "metadata": {},
   "outputs": [
    {
     "data": {
      "text/plain": [
       "3    -4.566189e-07\n",
       "5    -4.579567e-08\n",
       "10   -1.490953e-06\n",
       "15   -1.463935e-06\n",
       "20   -8.842062e-05\n",
       "25   -7.354910e-06\n",
       "30   -5.438844e-04\n",
       "40   -3.014319e-04\n",
       "50   -5.936846e-04\n",
       "dtype: float64"
      ]
     },
     "execution_count": 1509,
     "metadata": {},
     "output_type": "execute_result"
    }
   ],
   "source": [
    "tournaments_df.max()"
   ]
  },
  {
   "cell_type": "markdown",
   "metadata": {},
   "source": [
    "**Boxplot** za `tournaments_df`:"
   ]
  },
  {
   "cell_type": "code",
   "execution_count": 1510,
   "metadata": {},
   "outputs": [
    {
     "data": {
      "image/png": "[encoded data removed]",
      "text/plain": [
       "<Figure size 432x288 with 1 Axes>"
      ]
     },
     "metadata": {
      "needs_background": "light"
     },
     "output_type": "display_data"
    }
   ],
   "source": [
    "sns.boxplot(data=tournaments_df)\n",
    "plt.ylim(-0.015, 0.0055)\n",
    "plt.ylabel('Dobrota')\n",
    "plt.xlabel('k')\n",
    "plt.grid(True, linestyle='dotted', axis='y')\n",
    "plt.show()"
   ]
  },
  {
   "cell_type": "code",
   "execution_count": null,
   "metadata": {},
   "outputs": [],
   "source": []
  }
 ],
 "metadata": {
  "kernelspec": {
   "display_name": "Python 3",
   "language": "python",
   "name": "python3"
  },
  "language_info": {
   "codemirror_mode": {
    "name": "ipython",
    "version": 3
   },
   "file_extension": ".py",
   "mimetype": "text/x-python",
   "name": "python",
   "nbconvert_exporter": "python",
   "pygments_lexer": "ipython3",
   "version": "3.8.3"
  }
 },
 "nbformat": 4,
 "nbformat_minor": 4
}
