{
 "cells": [
  {
   "cell_type": "markdown",
   "metadata": {},
   "source": [
    "# Analiza i projektiranje računalom #\n",
    "\n",
    "### 4. Domaća zadaća -  _Genetski algoritam_ ###"
   ]
  },
  {
   "cell_type": "markdown",
   "metadata": {},
   "source": [
    "Učitavanje potrebnih biblioteka."
   ]
  },
  {
   "cell_type": "code",
   "execution_count": 1,
   "metadata": {},
   "outputs": [
    {
     "name": "stdout",
     "output_type": "stream",
     "text": [
      "Populating the interactive namespace from numpy and matplotlib\n"
     ]
    }
   ],
   "source": [
    "import numpy as np\n",
    "import pandas as pd\n",
    "%pylab inline"
   ]
  },
  {
   "cell_type": "markdown",
   "metadata": {},
   "source": [
    "### 3. Zadatak ###"
   ]
  },
  {
   "cell_type": "markdown",
   "metadata": {},
   "source": [
    "Učitavanje podatka iz datoteka."
   ]
  },
  {
   "cell_type": "code",
   "execution_count": 67,
   "metadata": {},
   "outputs": [],
   "source": [
    "f6d3d = np.loadtxt('f6d3d.txt')\n",
    "f6d6d = np.loadtxt('f6d6d.txt')\n",
    "f7d3d = np.loadtxt('f7d3d.txt')\n",
    "f7d6d = np.loadtxt('f7d6d.txt')\n",
    "f6d3b = np.loadtxt('f6d3b.txt')\n",
    "f6d6b = np.loadtxt('f6d6b.txt')\n",
    "f7d3b = np.loadtxt('f7d3b.txt')\n",
    "f7d6b = np.loadtxt('f7d6b.txt')"
   ]
  },
  {
   "cell_type": "markdown",
   "metadata": {},
   "source": [
    "Funkcija koja ispisuje statistiku za zadani vektor."
   ]
  },
  {
   "cell_type": "code",
   "execution_count": 64,
   "metadata": {},
   "outputs": [],
   "source": [
    "def statistics(fitness_vector, tol=-1e-6):\n",
    "    print('Broj pogodataka:', np.count_nonzero(fitness_vector > tol))\n",
    "    print('Srednja vrijednost:', np.mean(fitness_vector))\n",
    "    print('Medijan:           ', np.median(fitness_vector))\n",
    "    print('Najbolji fitness:  ', np.max(fitness_vector))"
   ]
  },
  {
   "cell_type": "markdown",
   "metadata": {},
   "source": [
    "Statistika za funkciju **f6** dimenzije **3** i **decimalnog** prikaza."
   ]
  },
  {
   "cell_type": "code",
   "execution_count": 68,
   "metadata": {},
   "outputs": [
    {
     "name": "stdout",
     "output_type": "stream",
     "text": [
      "Broj pogodataka: 1\n",
      "Srednja vrijednost: -0.0055551211529042315\n",
      "Medijan:            -0.006667359110405363\n",
      "Najbolji fitness:   -2.569170939326071e-07\n"
     ]
    }
   ],
   "source": [
    "statistics(f6d3d)"
   ]
  },
  {
   "cell_type": "markdown",
   "metadata": {},
   "source": [
    "Statistika za funkciju **f6** dimenzije **3** i **binarnog** prikaza."
   ]
  },
  {
   "cell_type": "code",
   "execution_count": 39,
   "metadata": {},
   "outputs": [
    {
     "name": "stdout",
     "output_type": "stream",
     "text": [
      "Broj pogodataka: 0\n",
      "Srednja vrijednost: -0.2942256810979662\n",
      "Medijan:            -0.3352120299313125\n",
      "Najbolji fitness:   -0.009715909877515194\n"
     ]
    }
   ],
   "source": [
    "statistics(f6d3b)"
   ]
  },
  {
   "cell_type": "markdown",
   "metadata": {},
   "source": [
    "Statistika za funkciju **f6** dimenzije **6** i **decimalnog** prikaza."
   ]
  },
  {
   "cell_type": "code",
   "execution_count": 69,
   "metadata": {},
   "outputs": [
    {
     "name": "stdout",
     "output_type": "stream",
     "text": [
      "Broj pogodataka: 0\n",
      "Srednja vrijednost: -0.009715913991362578\n",
      "Medijan:            -0.009715910051891402\n",
      "Najbolji fitness:   -0.009715909877514417\n"
     ]
    }
   ],
   "source": [
    "statistics(f6d6d)"
   ]
  },
  {
   "cell_type": "markdown",
   "metadata": {},
   "source": [
    "Statistika za funkciju **f6** dimenzije **6** i **binarnog** prikaza."
   ]
  },
  {
   "cell_type": "code",
   "execution_count": 41,
   "metadata": {},
   "outputs": [
    {
     "name": "stdout",
     "output_type": "stream",
     "text": [
      "Broj pogodataka: 0\n",
      "Srednja vrijednost: -0.4662748078237599\n",
      "Medijan:            -0.4869522071425083\n",
      "Najbolji fitness:   -0.009715909878708906\n"
     ]
    }
   ],
   "source": [
    "statistics(f6d6b)"
   ]
  },
  {
   "cell_type": "markdown",
   "metadata": {},
   "source": [
    "Statistika za funkciju **f7** dimenzije **3** i **decimalnog** prikaza."
   ]
  },
  {
   "cell_type": "code",
   "execution_count": 42,
   "metadata": {},
   "outputs": [
    {
     "name": "stdout",
     "output_type": "stream",
     "text": [
      "Broj pogodataka: 5\n",
      "Srednja vrijednost: -3.9206748643525486\n",
      "Medijan:            -5.3036632778548345\n",
      "Najbolji fitness:   -7.946771299586979e-07\n"
     ]
    }
   ],
   "source": [
    "statistics(f7d3d)"
   ]
  },
  {
   "cell_type": "markdown",
   "metadata": {},
   "source": [
    "Statistika za funkciju **f7** dimenzije **3** i **binarnog** prikaza."
   ]
  },
  {
   "cell_type": "code",
   "execution_count": 43,
   "metadata": {},
   "outputs": [
    {
     "name": "stdout",
     "output_type": "stream",
     "text": [
      "Broj pogodataka: 0\n",
      "Srednja vrijednost: -5.228187805232324\n",
      "Medijan:            -5.533310922908576\n",
      "Najbolji fitness:   -0.03135176069197369\n"
     ]
    }
   ],
   "source": [
    "statistics(f7d3b)"
   ]
  },
  {
   "cell_type": "markdown",
   "metadata": {},
   "source": [
    "Statistika za funkciju **f7** dimenzije **6** i **decimalnog** prikaza."
   ]
  },
  {
   "cell_type": "code",
   "execution_count": 44,
   "metadata": {},
   "outputs": [
    {
     "name": "stdout",
     "output_type": "stream",
     "text": [
      "Broj pogodataka: 1\n",
      "Srednja vrijednost: -8.349252905605017\n",
      "Medijan:            -8.931782251981438\n",
      "Najbolji fitness:   -7.72537042600365e-07\n"
     ]
    }
   ],
   "source": [
    "statistics(f7d6d)"
   ]
  },
  {
   "cell_type": "markdown",
   "metadata": {},
   "source": [
    "Statistika za funkciju **f7** dimenzije **6** i **binarnog** prikaza."
   ]
  },
  {
   "cell_type": "code",
   "execution_count": 45,
   "metadata": {},
   "outputs": [
    {
     "name": "stdout",
     "output_type": "stream",
     "text": [
      "Broj pogodataka: 0\n",
      "Srednja vrijednost: -8.425655641747134\n",
      "Medijan:            -8.636141087481835\n",
      "Najbolji fitness:   -0.72513439429251\n"
     ]
    }
   ],
   "source": [
    "statistics(f7d6b)"
   ]
  },
  {
   "cell_type": "code",
   "execution_count": null,
   "metadata": {},
   "outputs": [],
   "source": []
  },
  {
   "cell_type": "code",
   "execution_count": null,
   "metadata": {},
   "outputs": [],
   "source": []
  }
 ],
 "metadata": {
  "kernelspec": {
   "display_name": "Python 3",
   "language": "python",
   "name": "python3"
  },
  "language_info": {
   "codemirror_mode": {
    "name": "ipython",
    "version": 3
   },
   "file_extension": ".py",
   "mimetype": "text/x-python",
   "name": "python",
   "nbconvert_exporter": "python",
   "pygments_lexer": "ipython3",
   "version": "3.8.3"
  }
 },
 "nbformat": 4,
 "nbformat_minor": 4
}
