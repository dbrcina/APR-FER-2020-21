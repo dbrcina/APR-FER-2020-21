{
 "cells": [
  {
   "cell_type": "markdown",
   "metadata": {},
   "source": [
    "# Analiza i projektiranje računalom #\n",
    "\n",
    "### 4. Domaća zadaća -  _Genetski algoritam_ ###"
   ]
  },
  {
   "cell_type": "markdown",
   "metadata": {},
   "source": [
    "Učitavanje potrebnih biblioteka."
   ]
  },
  {
   "cell_type": "code",
   "execution_count": 779,
   "metadata": {},
   "outputs": [
    {
     "name": "stdout",
     "output_type": "stream",
     "text": [
      "Populating the interactive namespace from numpy and matplotlib\n"
     ]
    }
   ],
   "source": [
    "import numpy as np\n",
    "import pandas as pd\n",
    "import matplotlib.pyplot as plt\n",
    "import seaborn as sns\n",
    "%pylab inline"
   ]
  },
  {
   "cell_type": "markdown",
   "metadata": {},
   "source": [
    "Pomoćne funkcije."
   ]
  },
  {
   "cell_type": "code",
   "execution_count": 780,
   "metadata": {},
   "outputs": [],
   "source": [
    "def statistics(fitness_vector, tol=-1e-6):\n",
    "    print('Broj pogodataka:', np.count_nonzero(fitness_vector > tol), '/', len(fitness_vector))\n",
    "    print('Srednja vrijednost:', np.mean(fitness_vector))\n",
    "    print('Medijan:           ', np.median(fitness_vector))\n",
    "    print('Najbolja dobrota:  ', np.max(fitness_vector))\n",
    "    \n",
    "def make_boxplot(data_df=None, decimal_data=None, binary_data=None, title=''):\n",
    "    if data_df is None:\n",
    "        df = pd.DataFrame(data={'Decimalni': -np.log10(decimal_data*-1), 'Binarni': -np.log10(binary_data*-1)})\n",
    "    else:\n",
    "        df = -np.log10(data_df*-1)\n",
    "    sns.boxplot(data=df)\n",
    "    plt.ylabel('-log(-fitness)')\n",
    "    plt.ylim(0, 8)\n",
    "    plt.grid(True, linestyle='dotted', axis='y')\n",
    "    plt.title(title)\n",
    "    plt.show()\n",
    "    \n",
    "def foreach_column_in_df(df, action):\n",
    "    for columnName, columnData in df.iteritems():\n",
    "        print(columnName)\n",
    "        action(columnData.values)\n",
    "        print()"
   ]
  },
  {
   "cell_type": "markdown",
   "metadata": {},
   "source": [
    "### 3. Zadatak ###"
   ]
  },
  {
   "cell_type": "markdown",
   "metadata": {},
   "source": [
    "Učitavanje podatka iz datoteka."
   ]
  },
  {
   "cell_type": "code",
   "execution_count": 781,
   "metadata": {},
   "outputs": [],
   "source": [
    "f6d3d = np.loadtxt('data/task3/f6d3d.txt')\n",
    "f6d3b = np.loadtxt('data/task3/f6d3b.txt')\n",
    "f6d6d = np.loadtxt('data/task3/f6d6d.txt')\n",
    "f6d6b = np.loadtxt('data/task3/f6d6b.txt')\n",
    "f7d3d = np.loadtxt('data/task3/f7d3d.txt')\n",
    "f7d3b = np.loadtxt('data/task3/f7d3b.txt')\n",
    "f7d6d = np.loadtxt('data/task3/f7d6d.txt')\n",
    "f7d6b = np.loadtxt('data/task3/f7d6b.txt')"
   ]
  },
  {
   "cell_type": "markdown",
   "metadata": {},
   "source": [
    "Statistika za funkciju **F6** dimenzije **3** i **decimalnog** prikaza."
   ]
  },
  {
   "cell_type": "code",
   "execution_count": 782,
   "metadata": {},
   "outputs": [
    {
     "name": "stdout",
     "output_type": "stream",
     "text": [
      "Broj pogodataka: 15 / 30\n",
      "Srednja vrijednost: -0.00412461741980467\n",
      "Medijan:            -1.669969090983825e-06\n",
      "Najbolja dobrota:   -1.5373662720641335e-07\n"
     ]
    }
   ],
   "source": [
    "statistics(f6d3d)"
   ]
  },
  {
   "cell_type": "markdown",
   "metadata": {},
   "source": [
    "Statistika za funkciju **F6** dimenzije **3** i **binarnog** prikaza."
   ]
  },
  {
   "cell_type": "code",
   "execution_count": 783,
   "metadata": {},
   "outputs": [
    {
     "name": "stdout",
     "output_type": "stream",
     "text": [
      "Broj pogodataka: 3 / 30\n",
      "Srednja vrijednost: -0.010578290214466605\n",
      "Medijan:            -0.009715909877789891\n",
      "Najbolja dobrota:   -9.03007750685525e-07\n"
     ]
    }
   ],
   "source": [
    "statistics(f6d3b)"
   ]
  },
  {
   "cell_type": "markdown",
   "metadata": {},
   "source": [
    "**Boxplot** za **F6** dimenzije **3**:"
   ]
  },
  {
   "cell_type": "code",
   "execution_count": 784,
   "metadata": {},
   "outputs": [
    {
     "data": {
      "image/png": "[encoded data removed]",
      "text/plain": [
       "<Figure size 432x288 with 1 Axes>"
      ]
     },
     "metadata": {
      "needs_background": "light"
     },
     "output_type": "display_data"
    }
   ],
   "source": [
    "make_boxplot(decimal_data=f6d3d, binary_data=f6d3b, title='Funkcija F6 dimenzije 3')"
   ]
  },
  {
   "cell_type": "markdown",
   "metadata": {},
   "source": [
    "Statistika za funkciju **F6** dimenzije **6** i **decimalnog** prikaza."
   ]
  },
  {
   "cell_type": "code",
   "execution_count": 785,
   "metadata": {},
   "outputs": [
    {
     "name": "stdout",
     "output_type": "stream",
     "text": [
      "Broj pogodataka: 0 / 30\n",
      "Srednja vrijednost: -0.009715910930048114\n",
      "Medijan:            -0.009715910187823362\n",
      "Najbolja dobrota:   -0.009715909877707651\n"
     ]
    }
   ],
   "source": [
    "statistics(f6d6d)"
   ]
  },
  {
   "cell_type": "markdown",
   "metadata": {},
   "source": [
    "Statistika za funkciju **F6** dimenzije **6** i **binarnog** prikaza."
   ]
  },
  {
   "cell_type": "code",
   "execution_count": 786,
   "metadata": {},
   "outputs": [
    {
     "name": "stdout",
     "output_type": "stream",
     "text": [
      "Broj pogodataka: 0 / 30\n",
      "Srednja vrijednost: -0.009723582147996948\n",
      "Medijan:            -0.00971679616609089\n",
      "Najbolja dobrota:   -0.00971591073428274\n"
     ]
    }
   ],
   "source": [
    "statistics(f6d6b)"
   ]
  },
  {
   "cell_type": "markdown",
   "metadata": {},
   "source": [
    "**Boxplot** za **F6** dimenzije **6**:"
   ]
  },
  {
   "cell_type": "code",
   "execution_count": 787,
   "metadata": {},
   "outputs": [
    {
     "data": {
      "image/png": "[encoded data removed]",
      "text/plain": [
       "<Figure size 432x288 with 1 Axes>"
      ]
     },
     "metadata": {
      "needs_background": "light"
     },
     "output_type": "display_data"
    }
   ],
   "source": [
    "make_boxplot(decimal_data=f6d6d, binary_data=f6d6b, title='Funkcija F6 dimenzije 6')"
   ]
  },
  {
   "cell_type": "markdown",
   "metadata": {},
   "source": [
    "Statistika za funkciju **F7** dimenzije **3** i **decimalnog** prikaza."
   ]
  },
  {
   "cell_type": "code",
   "execution_count": 788,
   "metadata": {},
   "outputs": [
    {
     "name": "stdout",
     "output_type": "stream",
     "text": [
      "Broj pogodataka: 30 / 30\n",
      "Srednja vrijednost: -8.367395484230434e-07\n",
      "Medijan:            -8.537996328070429e-07\n",
      "Najbolja dobrota:   -4.94190108127658e-07\n"
     ]
    }
   ],
   "source": [
    "statistics(f7d3d)"
   ]
  },
  {
   "cell_type": "markdown",
   "metadata": {},
   "source": [
    "Statistika za funkciju **F7** dimenzije **3** i **binarnog** prikaza."
   ]
  },
  {
   "cell_type": "code",
   "execution_count": 789,
   "metadata": {},
   "outputs": [
    {
     "name": "stdout",
     "output_type": "stream",
     "text": [
      "Broj pogodataka: 0 / 30\n",
      "Srednja vrijednost: -0.04138880469052282\n",
      "Medijan:            -0.015295996148463232\n",
      "Najbolja dobrota:   -0.007209012150852522\n"
     ]
    }
   ],
   "source": [
    "statistics(f7d3b)"
   ]
  },
  {
   "cell_type": "markdown",
   "metadata": {},
   "source": [
    "**Boxplot** za **F7** dimenzije **3**:"
   ]
  },
  {
   "cell_type": "code",
   "execution_count": 790,
   "metadata": {},
   "outputs": [
    {
     "data": {
      "image/png": "[encoded data removed]",
      "text/plain": [
       "<Figure size 432x288 with 1 Axes>"
      ]
     },
     "metadata": {
      "needs_background": "light"
     },
     "output_type": "display_data"
    }
   ],
   "source": [
    "make_boxplot(decimal_data=f7d3d, binary_data=f7d3b, title='Funkcija F7 dimenzije 3')"
   ]
  },
  {
   "cell_type": "markdown",
   "metadata": {},
   "source": [
    "Statistika za funkciju **F7** dimenzije **6** i **decimalnog** prikaza."
   ]
  },
  {
   "cell_type": "code",
   "execution_count": 791,
   "metadata": {},
   "outputs": [
    {
     "name": "stdout",
     "output_type": "stream",
     "text": [
      "Broj pogodataka: 14 / 30\n",
      "Srednja vrijednost: -0.0031876240214638277\n",
      "Medijan:            -0.005364481906723688\n",
      "Najbolja dobrota:   -7.817185801689487e-07\n"
     ]
    }
   ],
   "source": [
    "statistics(f7d6d)"
   ]
  },
  {
   "cell_type": "markdown",
   "metadata": {},
   "source": [
    "Statistika za funkciju **F7** dimenzije **6** i **binarnog** prikaza."
   ]
  },
  {
   "cell_type": "code",
   "execution_count": 792,
   "metadata": {},
   "outputs": [
    {
     "name": "stdout",
     "output_type": "stream",
     "text": [
      "Broj pogodataka: 0 / 30\n",
      "Srednja vrijednost: -0.03277445017280985\n",
      "Medijan:            -0.03134949102907383\n",
      "Najbolja dobrota:   -0.015148849509952404\n"
     ]
    }
   ],
   "source": [
    "statistics(f7d6b)"
   ]
  },
  {
   "cell_type": "markdown",
   "metadata": {},
   "source": [
    "**Boxplot** za **F7** dimenzije **6**:"
   ]
  },
  {
   "cell_type": "code",
   "execution_count": 793,
   "metadata": {},
   "outputs": [
    {
     "data": {
      "image/png": "[encoded data removed]",
      "text/plain": [
       "<Figure size 432x288 with 1 Axes>"
      ]
     },
     "metadata": {
      "needs_background": "light"
     },
     "output_type": "display_data"
    }
   ],
   "source": [
    "make_boxplot(decimal_data=f7d6d, binary_data=f7d6b, title='Funkcija F7 dimenzije 6')"
   ]
  },
  {
   "cell_type": "markdown",
   "metadata": {},
   "source": [
    "### 4. Zadatak ###"
   ]
  },
  {
   "cell_type": "markdown",
   "metadata": {},
   "source": [
    "#### Određivanje optimalne veličine populacije ####"
   ]
  },
  {
   "cell_type": "markdown",
   "metadata": {},
   "source": [
    "Učitavanje `population_sizes.csv` datoteke."
   ]
  },
  {
   "cell_type": "code",
   "execution_count": 831,
   "metadata": {},
   "outputs": [],
   "source": [
    "population_sizes_df = pd.read_csv('data/task4/population_sizes.csv')"
   ]
  },
  {
   "cell_type": "markdown",
   "metadata": {},
   "source": [
    "Statistika za veličine populacija:"
   ]
  },
  {
   "cell_type": "code",
   "execution_count": 832,
   "metadata": {},
   "outputs": [
    {
     "name": "stdout",
     "output_type": "stream",
     "text": [
      "30\n",
      "Broj pogodataka: 10 / 30\n",
      "Srednja vrijednost: -0.005508440979348022\n",
      "Medijan:            -0.009715909877514363\n",
      "Najbolja dobrota:   -2.643185572082096e-07\n",
      "\n",
      "50\n",
      "Broj pogodataka: 9 / 30\n",
      "Srednja vrijednost: -0.003604233676981555\n",
      "Medijan:            -4.695643140015249e-05\n",
      "Najbolja dobrota:   -3.7085461079833243e-07\n",
      "\n",
      "100\n",
      "Broj pogodataka: 16 / 30\n",
      "Srednja vrijednost: -0.0037443857189631835\n",
      "Medijan:            -9.1120260514721e-07\n",
      "Najbolja dobrota:   -3.976305734676444e-08\n",
      "\n",
      "200\n",
      "Broj pogodataka: 6 / 30\n",
      "Srednja vrijednost: -0.005152997051274982\n",
      "Medijan:            -0.005058968055501489\n",
      "Najbolja dobrota:   -1.629626488197644e-07\n",
      "\n"
     ]
    }
   ],
   "source": [
    "foreach_column_in_df(population_sizes_df, statistics)"
   ]
  },
  {
   "cell_type": "markdown",
   "metadata": {},
   "source": [
    "**Boxplot** za veličine populacija:"
   ]
  },
  {
   "cell_type": "code",
   "execution_count": 833,
   "metadata": {},
   "outputs": [
    {
     "data": {
      "image/png": "[encoded data removed]",
      "text/plain": [
       "<Figure size 432x288 with 1 Axes>"
      ]
     },
     "metadata": {
      "needs_background": "light"
     },
     "output_type": "display_data"
    }
   ],
   "source": [
    "make_boxplot(data_df=population_sizes_df, title='Veličina populacije')"
   ]
  },
  {
   "cell_type": "markdown",
   "metadata": {},
   "source": [
    "#### Određivanje optimalne vjerojatnosti mutacije ####"
   ]
  },
  {
   "cell_type": "markdown",
   "metadata": {},
   "source": [
    "Učitavanje `mutations.csv` datoteke."
   ]
  },
  {
   "cell_type": "code",
   "execution_count": 837,
   "metadata": {},
   "outputs": [],
   "source": [
    "mutations_df = pd.read_csv('data/task4/mutations.csv')"
   ]
  },
  {
   "cell_type": "markdown",
   "metadata": {},
   "source": [
    "Statistika za vjerojatnosti mutacije:"
   ]
  },
  {
   "cell_type": "code",
   "execution_count": 838,
   "metadata": {},
   "outputs": [
    {
     "name": "stdout",
     "output_type": "stream",
     "text": [
      "0.1\n",
      "Broj pogodataka: 1 / 30\n",
      "Srednja vrijednost: -0.00907509388315444\n",
      "Medijan:            -0.009715909877514363\n",
      "Najbolja dobrota:   -6.527738741768374e-07\n",
      "\n",
      "0.3\n",
      "Broj pogodataka: 7 / 30\n",
      "Srednja vrijednost: -0.007449003968576449\n",
      "Medijan:            -0.009715909877514363\n",
      "Najbolja dobrota:   -7.05955699453753e-08\n",
      "\n",
      "0.6\n",
      "Broj pogodataka: 9 / 30\n",
      "Srednja vrijednost: -0.006334522743145678\n",
      "Medijan:            -0.009715909877514363\n",
      "Najbolja dobrota:   -1.0790380505776298e-07\n",
      "\n",
      "0.9\n",
      "Broj pogodataka: 3 / 30\n",
      "Srednja vrijednost: -0.005443755019295582\n",
      "Medijan:            -0.007743173138346077\n",
      "Najbolja dobrota:   -2.4911482027212273e-07\n",
      "\n"
     ]
    }
   ],
   "source": [
    "foreach_column_in_df(mutations_df, statistics)"
   ]
  },
  {
   "cell_type": "markdown",
   "metadata": {},
   "source": [
    "**Boxplot** za vjerojatnost mutacije jedinke:"
   ]
  },
  {
   "cell_type": "code",
   "execution_count": 839,
   "metadata": {},
   "outputs": [
    {
     "data": {
      "image/png": "[encoded data removed]",
      "text/plain": [
       "<Figure size 432x288 with 1 Axes>"
      ]
     },
     "metadata": {
      "needs_background": "light"
     },
     "output_type": "display_data"
    }
   ],
   "source": [
    "make_boxplot(data_df=mutations_df, title='Vjerojatnost mutacije')"
   ]
  },
  {
   "cell_type": "markdown",
   "metadata": {},
   "source": [
    "#### Prikaz optimalne veličine populacije i optimalne vjerojatnosti mutacije ####"
   ]
  },
  {
   "cell_type": "markdown",
   "metadata": {},
   "source": [
    "Učitavanje `optimal_population_mutation.txt` datoteke."
   ]
  },
  {
   "cell_type": "code",
   "execution_count": 840,
   "metadata": {},
   "outputs": [],
   "source": [
    "population_mutation = np.loadtxt('data/task4/optimal_population_mutation.txt')"
   ]
  },
  {
   "cell_type": "markdown",
   "metadata": {},
   "source": [
    "Statistika za optimalnu veličinu populacije i vjerojatnost mutacije:"
   ]
  },
  {
   "cell_type": "code",
   "execution_count": 841,
   "metadata": {},
   "outputs": [
    {
     "name": "stdout",
     "output_type": "stream",
     "text": [
      "Broj pogodataka: 13 / 30\n",
      "Srednja vrijednost: -0.005505931167306344\n",
      "Medijan:            -0.009715909877514362\n",
      "Najbolja dobrota:   -2.0667034361654402e-07\n"
     ]
    }
   ],
   "source": [
    "statistics(population_mutation)"
   ]
  },
  {
   "cell_type": "markdown",
   "metadata": {},
   "source": [
    "### 5. Zadatak ###"
   ]
  },
  {
   "cell_type": "markdown",
   "metadata": {},
   "source": [
    "#### Određivanje optimalnog turnira ####"
   ]
  },
  {
   "cell_type": "markdown",
   "metadata": {},
   "source": [
    "Učitavanje `tournaments.csv` datoteke."
   ]
  },
  {
   "cell_type": "code",
   "execution_count": 856,
   "metadata": {},
   "outputs": [],
   "source": [
    "tournaments_df = pd.read_csv('data/task5/tournaments.csv')"
   ]
  },
  {
   "cell_type": "markdown",
   "metadata": {},
   "source": [
    "Statistika za turnire:"
   ]
  },
  {
   "cell_type": "code",
   "execution_count": 857,
   "metadata": {},
   "outputs": [
    {
     "name": "stdout",
     "output_type": "stream",
     "text": [
      "3\n",
      "Broj pogodataka: 11 / 30\n",
      "Srednja vrijednost: -0.006153633149031524\n",
      "Medijan:            -0.009715909877514363\n",
      "Najbolja dobrota:   -1.4681756266288204e-07\n",
      "\n",
      "5\n",
      "Broj pogodataka: 4 / 30\n",
      "Srednja vrijednost: -0.007559643855215013\n",
      "Medijan:            -0.009715909877514415\n",
      "Najbolja dobrota:   -4.059257593946874e-07\n",
      "\n",
      "10\n",
      "Broj pogodataka: 2 / 30\n",
      "Srednja vrijednost: -0.007835128834470358\n",
      "Medijan:            -0.009715909877514445\n",
      "Najbolja dobrota:   -7.038397255021421e-07\n",
      "\n",
      "15\n",
      "Broj pogodataka: 3 / 30\n",
      "Srednja vrijednost: -0.006328849409844032\n",
      "Medijan:            -0.009715909877514415\n",
      "Najbolja dobrota:   -7.318695560698529e-07\n",
      "\n",
      "20\n",
      "Broj pogodataka: 0 / 30\n",
      "Srednja vrijednost: -0.007473175000896197\n",
      "Medijan:            -0.009715909884754292\n",
      "Najbolja dobrota:   -1.5336652417652367e-05\n",
      "\n",
      "25\n",
      "Broj pogodataka: 0 / 30\n",
      "Srednja vrijednost: -0.006577303339503284\n",
      "Medijan:            -0.009715909884552565\n",
      "Najbolja dobrota:   -3.8121006418589947e-05\n",
      "\n",
      "30\n",
      "Broj pogodataka: 0 / 30\n",
      "Srednja vrijednost: -0.008174617906836096\n",
      "Medijan:            -0.009715909889623703\n",
      "Najbolja dobrota:   -1.7255634291946098e-05\n",
      "\n",
      "40\n",
      "Broj pogodataka: 0 / 30\n",
      "Srednja vrijednost: -0.005177976121318571\n",
      "Medijan:            -0.004361223908896705\n",
      "Najbolja dobrota:   -7.206648319935117e-06\n",
      "\n",
      "50\n",
      "Broj pogodataka: 0 / 30\n",
      "Srednja vrijednost: -0.007624390810193865\n",
      "Medijan:            -0.009715910028262609\n",
      "Najbolja dobrota:   -0.000313476471654639\n",
      "\n"
     ]
    }
   ],
   "source": [
    "foreach_column_in_df(tournaments_df, statistics)"
   ]
  },
  {
   "cell_type": "markdown",
   "metadata": {},
   "source": [
    "**Boxplot** za turnire:"
   ]
  },
  {
   "cell_type": "code",
   "execution_count": 858,
   "metadata": {},
   "outputs": [
    {
     "data": {
      "image/png": "[encoded data removed]",
      "text/plain": [
       "<Figure size 432x288 with 1 Axes>"
      ]
     },
     "metadata": {
      "needs_background": "light"
     },
     "output_type": "display_data"
    }
   ],
   "source": [
    "make_boxplot(data_df=tournaments_df, title='k')"
   ]
  },
  {
   "cell_type": "markdown",
   "metadata": {},
   "source": [
    "#### Prikaz optimalnog turnira za optimalnu veličinu populacije i vjerojatnosti mutacije ####"
   ]
  },
  {
   "cell_type": "markdown",
   "metadata": {},
   "source": [
    "Učitavanje `optimal_population_mutation_tournament.txt` datoteke."
   ]
  },
  {
   "cell_type": "code",
   "execution_count": 861,
   "metadata": {},
   "outputs": [],
   "source": [
    "population_mutation_tournament = np.loadtxt('data/task5/optimal_population_mutation_tournament.txt')"
   ]
  },
  {
   "cell_type": "markdown",
   "metadata": {},
   "source": [
    "Statistika za optimalnu veličinu populacije, vjerojatnost mutacije i turnira:"
   ]
  },
  {
   "cell_type": "code",
   "execution_count": 862,
   "metadata": {},
   "outputs": [
    {
     "name": "stdout",
     "output_type": "stream",
     "text": [
      "Broj pogodataka: 11 / 30\n",
      "Srednja vrijednost: -0.00579322979469147\n",
      "Medijan:            -0.009715909877514362\n",
      "Najbolja dobrota:   -1.9033372022914108e-07\n"
     ]
    }
   ],
   "source": [
    "statistics(population_mutation_tournament)"
   ]
  }
 ],
 "metadata": {
  "kernelspec": {
   "display_name": "Python 3",
   "language": "python",
   "name": "python3"
  },
  "language_info": {
   "codemirror_mode": {
    "name": "ipython",
    "version": 3
   },
   "file_extension": ".py",
   "mimetype": "text/x-python",
   "name": "python",
   "nbconvert_exporter": "python",
   "pygments_lexer": "ipython3",
   "version": "3.8.3"
  }
 },
 "nbformat": 4,
 "nbformat_minor": 4
}
