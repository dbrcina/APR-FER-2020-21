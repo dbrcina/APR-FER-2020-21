{
 "cells": [
  {
   "cell_type": "markdown",
   "metadata": {},
   "source": [
    "# Analiza i projektiranje računalom #\n",
    "\n",
    "### 4. Domaća zadaća -  _Genetski algoritam_ ###"
   ]
  },
  {
   "cell_type": "markdown",
   "metadata": {},
   "source": [
    "Učitavanje potrebnih biblioteka."
   ]
  },
  {
   "cell_type": "code",
   "execution_count": 140,
   "metadata": {},
   "outputs": [
    {
     "name": "stdout",
     "output_type": "stream",
     "text": [
      "Populating the interactive namespace from numpy and matplotlib\n"
     ]
    }
   ],
   "source": [
    "import numpy as np\n",
    "import pandas as pd\n",
    "import matplotlib.pyplot as plt\n",
    "import seaborn as sns\n",
    "%pylab inline"
   ]
  },
  {
   "cell_type": "markdown",
   "metadata": {},
   "source": [
    "### 3. Zadatak ###"
   ]
  },
  {
   "cell_type": "markdown",
   "metadata": {},
   "source": [
    "Učitavanje podatka iz datoteka."
   ]
  },
  {
   "cell_type": "code",
   "execution_count": 141,
   "metadata": {},
   "outputs": [],
   "source": [
    "f6d3d = np.loadtxt('data/f6d3d.txt')\n",
    "f6d6d = np.loadtxt('data/f6d6d.txt')\n",
    "f7d3d = np.loadtxt('data/f7d3d.txt')\n",
    "f7d6d = np.loadtxt('data/f7d6d.txt')\n",
    "f6d3b = np.loadtxt('data/f6d3b.txt')\n",
    "f6d6b = np.loadtxt('data/f6d6b.txt')\n",
    "f7d3b = np.loadtxt('data/f7d3b.txt')\n",
    "f7d6b = np.loadtxt('data/f7d6b.txt')"
   ]
  },
  {
   "cell_type": "markdown",
   "metadata": {},
   "source": [
    "Funkcija koja ispisuje statistiku za zadani vektor."
   ]
  },
  {
   "cell_type": "code",
   "execution_count": 142,
   "metadata": {},
   "outputs": [],
   "source": [
    "def statistics(fitness_vector, tol=-1e-6):\n",
    "    print('Broj pogodataka:', np.count_nonzero(fitness_vector > tol), '/', len(fitness_vector))\n",
    "    print('Srednja vrijednost:', np.mean(fitness_vector))\n",
    "    print('Medijan:           ', np.median(fitness_vector))\n",
    "    print('Najbolji fitness:  ', np.max(fitness_vector))"
   ]
  },
  {
   "cell_type": "markdown",
   "metadata": {},
   "source": [
    "Statistika za funkciju **f6** dimenzije **3** i **decimalnog** prikaza."
   ]
  },
  {
   "cell_type": "code",
   "execution_count": 143,
   "metadata": {},
   "outputs": [
    {
     "name": "stdout",
     "output_type": "stream",
     "text": [
      "Broj pogodataka: 5 / 30\n",
      "Srednja vrijednost: -0.007639416035773164\n",
      "Medijan:            -0.00971590987751439\n",
      "Najbolji fitness:   -4.711979831872881e-07\n"
     ]
    }
   ],
   "source": [
    "statistics(f6d3d)"
   ]
  },
  {
   "cell_type": "markdown",
   "metadata": {},
   "source": [
    "Statistika za funkciju **f6** dimenzije **3** i **binarnog** prikaza."
   ]
  },
  {
   "cell_type": "code",
   "execution_count": 144,
   "metadata": {},
   "outputs": [
    {
     "name": "stdout",
     "output_type": "stream",
     "text": [
      "Broj pogodataka: 0 / 30\n",
      "Srednja vrijednost: -0.00971590987772016\n",
      "Medijan:            -0.009715909877546725\n",
      "Najbolji fitness:   -0.009715909877514473\n"
     ]
    }
   ],
   "source": [
    "statistics(f6d3b)"
   ]
  },
  {
   "cell_type": "markdown",
   "metadata": {},
   "source": [
    "Statistika za funkciju **f6** dimenzije **6** i **decimalnog** prikaza."
   ]
  },
  {
   "cell_type": "code",
   "execution_count": 145,
   "metadata": {},
   "outputs": [
    {
     "name": "stdout",
     "output_type": "stream",
     "text": [
      "Broj pogodataka: 0 / 30\n",
      "Srednja vrijednost: -0.009715911744564463\n",
      "Medijan:            -0.00971590987751525\n",
      "Najbolji fitness:   -0.009715909877514362\n"
     ]
    }
   ],
   "source": [
    "statistics(f6d6d)"
   ]
  },
  {
   "cell_type": "markdown",
   "metadata": {},
   "source": [
    "Statistika za funkciju **f6** dimenzije **6** i **binarnog** prikaza."
   ]
  },
  {
   "cell_type": "code",
   "execution_count": 146,
   "metadata": {},
   "outputs": [
    {
     "name": "stdout",
     "output_type": "stream",
     "text": [
      "Broj pogodataka: 0 / 30\n",
      "Srednja vrijednost: -0.009715909895223206\n",
      "Medijan:            -0.0097159098778693\n",
      "Najbolji fitness:   -0.009715909877514917\n"
     ]
    }
   ],
   "source": [
    "statistics(f6d6b)"
   ]
  },
  {
   "cell_type": "markdown",
   "metadata": {},
   "source": [
    "Statistika za funkciju **f7** dimenzije **3** i **decimalnog** prikaza."
   ]
  },
  {
   "cell_type": "code",
   "execution_count": 147,
   "metadata": {},
   "outputs": [
    {
     "name": "stdout",
     "output_type": "stream",
     "text": [
      "Broj pogodataka: 30 / 30\n",
      "Srednja vrijednost: -9.306542901240587e-07\n",
      "Medijan:            -9.413679960288481e-07\n",
      "Najbolji fitness:   -7.910210445361456e-07\n"
     ]
    }
   ],
   "source": [
    "statistics(f7d3d)"
   ]
  },
  {
   "cell_type": "markdown",
   "metadata": {},
   "source": [
    "Statistika za funkciju **f7** dimenzije **3** i **binarnog** prikaza."
   ]
  },
  {
   "cell_type": "code",
   "execution_count": 148,
   "metadata": {},
   "outputs": [
    {
     "name": "stdout",
     "output_type": "stream",
     "text": [
      "Broj pogodataka: 0 / 30\n",
      "Srednja vrijednost: -0.014198064481576154\n",
      "Medijan:            -0.015161990864761195\n",
      "Najbolji fitness:   -0.007209012150852522\n"
     ]
    }
   ],
   "source": [
    "statistics(f7d3b)"
   ]
  },
  {
   "cell_type": "markdown",
   "metadata": {},
   "source": [
    "Statistika za funkciju **f7** dimenzije **6** i **decimalnog** prikaza."
   ]
  },
  {
   "cell_type": "code",
   "execution_count": 149,
   "metadata": {},
   "outputs": [
    {
     "name": "stdout",
     "output_type": "stream",
     "text": [
      "Broj pogodataka: 12 / 30\n",
      "Srednja vrijednost: -0.00625597074507735\n",
      "Medijan:            -0.005364481906723688\n",
      "Najbolji fitness:   -8.030097475390567e-07\n"
     ]
    }
   ],
   "source": [
    "statistics(f7d6d)"
   ]
  },
  {
   "cell_type": "markdown",
   "metadata": {},
   "source": [
    "Statistika za funkciju **f7** dimenzije **6** i **binarnog** prikaza."
   ]
  },
  {
   "cell_type": "code",
   "execution_count": 150,
   "metadata": {},
   "outputs": [
    {
     "name": "stdout",
     "output_type": "stream",
     "text": [
      "Broj pogodataka: 0 / 30\n",
      "Srednja vrijednost: -0.08679839311709034\n",
      "Medijan:            -0.08687683639628674\n",
      "Najbolji fitness:   -0.015148849509952402\n"
     ]
    }
   ],
   "source": [
    "statistics(f7d6b)"
   ]
  },
  {
   "cell_type": "markdown",
   "metadata": {},
   "source": [
    "### 4. Zadatak ###"
   ]
  },
  {
   "cell_type": "markdown",
   "metadata": {},
   "source": [
    "Učitavanje `population_sizes.csv` datoteke."
   ]
  },
  {
   "cell_type": "code",
   "execution_count": 158,
   "metadata": {},
   "outputs": [],
   "source": [
    "population_sizes_df = pd.read_csv('data/population_sizes.csv')"
   ]
  },
  {
   "cell_type": "markdown",
   "metadata": {},
   "source": [
    "Srednje vrijednosti po populacijama:"
   ]
  },
  {
   "cell_type": "code",
   "execution_count": 159,
   "metadata": {},
   "outputs": [
    {
     "data": {
      "text/plain": [
       "30    -0.007664\n",
       "50    -0.006353\n",
       "100   -0.007643\n",
       "200   -0.005523\n",
       "dtype: float64"
      ]
     },
     "execution_count": 159,
     "metadata": {},
     "output_type": "execute_result"
    }
   ],
   "source": [
    "population_sizes_df.mean()"
   ]
  },
  {
   "cell_type": "markdown",
   "metadata": {},
   "source": [
    "Medijani po populacijama:"
   ]
  },
  {
   "cell_type": "code",
   "execution_count": 160,
   "metadata": {},
   "outputs": [
    {
     "data": {
      "text/plain": [
       "30    -0.009716\n",
       "50    -0.008700\n",
       "100   -0.009716\n",
       "200   -0.006348\n",
       "dtype: float64"
      ]
     },
     "execution_count": 160,
     "metadata": {},
     "output_type": "execute_result"
    }
   ],
   "source": [
    "population_sizes_df.median()"
   ]
  },
  {
   "cell_type": "markdown",
   "metadata": {},
   "source": [
    "Najbolji fitnessi po populacijama:"
   ]
  },
  {
   "cell_type": "code",
   "execution_count": 161,
   "metadata": {},
   "outputs": [
    {
     "data": {
      "text/plain": [
       "30    -8.905858e-07\n",
       "50    -8.509363e-07\n",
       "100   -6.381892e-07\n",
       "200   -2.182848e-07\n",
       "dtype: float64"
      ]
     },
     "execution_count": 161,
     "metadata": {},
     "output_type": "execute_result"
    }
   ],
   "source": [
    "population_sizes_df.max()"
   ]
  },
  {
   "cell_type": "markdown",
   "metadata": {},
   "source": [
    "**Boxplot** za `population_sizes_df`."
   ]
  },
  {
   "cell_type": "code",
   "execution_count": 164,
   "metadata": {},
   "outputs": [
    {
     "data": {
      "image/png": "[encoded data removed]",
      "text/plain": [
       "<Figure size 432x288 with 1 Axes>"
      ]
     },
     "metadata": {
      "needs_background": "light"
     },
     "output_type": "display_data"
    }
   ],
   "source": [
    "sns.boxplot(data=population_sizes_df)\n",
    "plt.ylim(-0.015, 0.002)\n",
    "plt.ylabel('Dobrota')\n",
    "plt.xlabel('Velicina populacije')\n",
    "plt.grid(True, linestyle='dotted', axis='y')\n",
    "plt.show()"
   ]
  },
  {
   "cell_type": "code",
   "execution_count": null,
   "metadata": {},
   "outputs": [],
   "source": []
  }
 ],
 "metadata": {
  "kernelspec": {
   "display_name": "Python 3",
   "language": "python",
   "name": "python3"
  },
  "language_info": {
   "codemirror_mode": {
    "name": "ipython",
    "version": 3
   },
   "file_extension": ".py",
   "mimetype": "text/x-python",
   "name": "python",
   "nbconvert_exporter": "python",
   "pygments_lexer": "ipython3",
   "version": "3.8.3"
  }
 },
 "nbformat": 4,
 "nbformat_minor": 4
}
